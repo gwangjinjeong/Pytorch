{
  "nbformat": 4,
  "nbformat_minor": 0,
  "metadata": {
    "kernelspec": {
      "display_name": "Python",
      "language": "python",
      "name": "conda-env-python-py"
    },
    "language_info": {
      "codemirror_mode": {
        "name": "ipython",
        "version": 3
      },
      "file_extension": ".py",
      "mimetype": "text/x-python",
      "name": "python",
      "nbconvert_exporter": "python",
      "pygments_lexer": "ipython3",
      "version": "3.6.7"
    },
    "colab": {
      "name": "02_Dataset_Transform_Compose_01.ipynb",
      "provenance": [],
      "toc_visible": true,
      "include_colab_link": true
    }
  },
  "cells": [
    {
      "cell_type": "markdown",
      "metadata": {
        "id": "view-in-github",
        "colab_type": "text"
      },
      "source": [
        "<a href=\"https://colab.research.google.com/github/gwangjinjeong/Pytorch/blob/master/basic/02_Dataset_Transform_Compose_01.ipynb\" target=\"_parent\"><img src=\"https://colab.research.google.com/assets/colab-badge.svg\" alt=\"Open In Colab\"/></a>"
      ]
    },
    {
      "cell_type": "markdown",
      "metadata": {
        "id": "uULVL8qzHdiU",
        "colab_type": "text"
      },
      "source": [
        "# Set Image Datasets and Transforms and Compose"
      ]
    },
    {
      "cell_type": "markdown",
      "metadata": {
        "id": "_LrWSatgs91S",
        "colab_type": "text"
      },
      "source": [
        "## 0. Preparation"
      ]
    },
    {
      "cell_type": "code",
      "metadata": {
        "id": "yG1_wZHss91U",
        "colab_type": "code",
        "outputId": "eb1e39a1-aa74-469e-fb4d-6abc0387fc65",
        "colab": {
          "base_uri": "https://localhost:8080/",
          "height": 34
        }
      },
      "source": [
        "import torch\n",
        "from torch.utils.data import Dataset\n",
        "torch.manual_seed(1)"
      ],
      "execution_count": 1,
      "outputs": [
        {
          "output_type": "execute_result",
          "data": {
            "text/plain": [
              "<torch._C.Generator at 0x7f3d943ddf50>"
            ]
          },
          "metadata": {
            "tags": []
          },
          "execution_count": 1
        }
      ]
    },
    {
      "cell_type": "markdown",
      "metadata": {
        "id": "3jZuQKM7H5ut",
        "colab_type": "text"
      },
      "source": [
        "## 1. Define class for toy dataset\n"
      ]
    },
    {
      "cell_type": "markdown",
      "metadata": {
        "id": "TMqu-OmyImu1",
        "colab_type": "text"
      },
      "source": [
        "image dataset과 비슷하게, 설정해보자   \n",
        "형식은 다음과 같다\n",
        "* [0] : data (vector형태)\n",
        "* [1] : class"
      ]
    },
    {
      "cell_type": "code",
      "metadata": {
        "id": "_U0Do0ops91g",
        "colab_type": "code",
        "colab": {}
      },
      "source": [
        "class toy_set(Dataset):\n",
        "\n",
        "    def __init__(self, length = 100, transform = None):\n",
        "        self.len = length\n",
        "        self.x = 2 * torch.ones(length, 2)\n",
        "        self.y = torch.ones(length, 1)\n",
        "        self.transform = transform\n",
        "     \n",
        "    # __getitem__ :  indexing 할때나, slicing할때, 아이템을 어떻게 얻을 것인지 설정할수 있다.\n",
        "    def __getitem__(self, index):\n",
        "        sample = self.x[index], self.y[index]\n",
        "        if self.transform:\n",
        "            sample = self.transform(sample)     \n",
        "        return sample\n",
        "    # __len__ : len을 호출할때 무엇을 반환시킬것인지 설정 가능하다.\n",
        "    def __len__(self):\n",
        "        return self.len"
      ],
      "execution_count": 0,
      "outputs": []
    },
    {
      "cell_type": "code",
      "metadata": {
        "id": "gPuDMDX1s91k",
        "colab_type": "code",
        "outputId": "2d490f11-057f-4027-fab4-2ceb6d9b9b68",
        "colab": {
          "base_uri": "https://localhost:8080/",
          "height": 51
        }
      },
      "source": [
        "our_dataset = toy_set()\n",
        "print(our_dataset[0])\n",
        "print(len(our_dataset))"
      ],
      "execution_count": 6,
      "outputs": [
        {
          "output_type": "stream",
          "text": [
            "(tensor([2., 2.]), tensor([1.]))\n",
            "100\n"
          ],
          "name": "stdout"
        }
      ]
    },
    {
      "cell_type": "code",
      "metadata": {
        "id": "bj1OhVCms91r",
        "colab_type": "code",
        "outputId": "64af4fd7-ffee-4c66-e563-cbedbc1375f9",
        "colab": {
          "base_uri": "https://localhost:8080/",
          "height": 68
        }
      },
      "source": [
        "for i in range(3):\n",
        "    x, y=our_dataset[i]\n",
        "    print(\"index: \", i, '; x:', x, '; y:', y)"
      ],
      "execution_count": 7,
      "outputs": [
        {
          "output_type": "stream",
          "text": [
            "index:  0 ; x: tensor([2., 2.]) ; y: tensor([1.])\n",
            "index:  1 ; x: tensor([2., 2.]) ; y: tensor([1.])\n",
            "index:  2 ; x: tensor([2., 2.]) ; y: tensor([1.])\n"
          ],
          "name": "stdout"
        }
      ]
    },
    {
      "cell_type": "markdown",
      "metadata": {
        "id": "L7Tbdfpqs92A",
        "colab_type": "text"
      },
      "source": [
        "##2. Transforms"
      ]
    },
    {
      "cell_type": "code",
      "metadata": {
        "id": "BGb3BX5Ls92C",
        "colab_type": "code",
        "colab": {}
      },
      "source": [
        "class add_mult(object):\n",
        "    \n",
        "    def __init__(self, addx = 1, muly = 2):\n",
        "        self.addx = addx\n",
        "        self.muly = muly\n",
        "    \n",
        "    # class 호출시 즉시실행\n",
        "    def __call__(self, sample):\n",
        "        x = sample[0]\n",
        "        y = sample[1]\n",
        "        x = x + self.addx\n",
        "        y = y * self.muly\n",
        "        sample = x, y\n",
        "        return sample"
      ],
      "execution_count": 0,
      "outputs": []
    },
    {
      "cell_type": "code",
      "metadata": {
        "id": "rb9r-Iqos92H",
        "colab_type": "code",
        "colab": {}
      },
      "source": [
        "a_m = add_mult()\n",
        "data_set = toy_set()"
      ],
      "execution_count": 0,
      "outputs": []
    },
    {
      "cell_type": "markdown",
      "metadata": {
        "id": "5KHCg3KtKsJo",
        "colab_type": "text"
      },
      "source": [
        "### 2.1 Dataset 단일적용"
      ]
    },
    {
      "cell_type": "code",
      "metadata": {
        "id": "E7natrkRs92O",
        "colab_type": "code",
        "outputId": "35657ddd-d870-4567-e0dd-50b7acbe9d76",
        "colab": {
          "base_uri": "https://localhost:8080/",
          "height": 272
        }
      },
      "source": [
        "for i in range(3):\n",
        "    x, y = data_set[i]\n",
        "    print('Original')\n",
        "    print(i,x,y)\n",
        "    print('Transformed')\n",
        "    x_, y_ = a_m(data_set[i])\n",
        "    print(i, x_, y_)\n",
        "    print('-'*30)"
      ],
      "execution_count": 11,
      "outputs": [
        {
          "output_type": "stream",
          "text": [
            "Original\n",
            "0 tensor([2., 2.]) tensor([1.])\n",
            "Transformed\n",
            "0 tensor([3., 3.]) tensor([2.])\n",
            "------------------------------\n",
            "Original\n",
            "1 tensor([2., 2.]) tensor([1.])\n",
            "Transformed\n",
            "1 tensor([3., 3.]) tensor([2.])\n",
            "------------------------------\n",
            "Original\n",
            "2 tensor([2., 2.]) tensor([1.])\n",
            "Transformed\n",
            "2 tensor([3., 3.]) tensor([2.])\n",
            "------------------------------\n"
          ],
          "name": "stdout"
        }
      ]
    },
    {
      "cell_type": "markdown",
      "metadata": {
        "id": "BZG_N5ZzK0BG",
        "colab_type": "text"
      },
      "source": [
        "### 2.2 Dataset 전체적용"
      ]
    },
    {
      "cell_type": "code",
      "metadata": {
        "id": "Wi7Wmides92V",
        "colab_type": "code",
        "colab": {}
      },
      "source": [
        "cust_data_set = toy_set(transform = a_m)"
      ],
      "execution_count": 0,
      "outputs": []
    },
    {
      "cell_type": "code",
      "metadata": {
        "id": "vNQjmO2bs92b",
        "colab_type": "code",
        "outputId": "ceee38bf-9791-4393-ebfd-9d82a3ae4b66",
        "colab": {
          "base_uri": "https://localhost:8080/",
          "height": 272
        }
      },
      "source": [
        "for i in range(3):\n",
        "    x, y = data_set[i]\n",
        "    print('Original')\n",
        "    print(i,x,y)\n",
        "    print('Transformed')\n",
        "    x_, y_ = cust_data_set[i]\n",
        "    print(i, x_, y_)\n",
        "    print('-'*30)"
      ],
      "execution_count": 14,
      "outputs": [
        {
          "output_type": "stream",
          "text": [
            "Original\n",
            "0 tensor([2., 2.]) tensor([1.])\n",
            "Transformed\n",
            "0 tensor([3., 3.]) tensor([2.])\n",
            "------------------------------\n",
            "Original\n",
            "1 tensor([2., 2.]) tensor([1.])\n",
            "Transformed\n",
            "1 tensor([3., 3.]) tensor([2.])\n",
            "------------------------------\n",
            "Original\n",
            "2 tensor([2., 2.]) tensor([1.])\n",
            "Transformed\n",
            "2 tensor([3., 3.]) tensor([2.])\n",
            "------------------------------\n"
          ],
          "name": "stdout"
        }
      ]
    },
    {
      "cell_type": "markdown",
      "metadata": {
        "id": "gBXyrEmos92o",
        "colab_type": "text"
      },
      "source": [
        "## 3. Compose\n",
        "Transform 여러개를 한개로 만들어주는것"
      ]
    },
    {
      "cell_type": "code",
      "metadata": {
        "id": "EygAZKDTs92p",
        "colab_type": "code",
        "colab": {}
      },
      "source": [
        "try:\n",
        "  from torchvision import transforms\n",
        "except:\n",
        "  !pip install -y torchvision"
      ],
      "execution_count": 0,
      "outputs": []
    },
    {
      "cell_type": "markdown",
      "metadata": {
        "id": "vOy7BsUPs920",
        "colab_type": "text"
      },
      "source": [
        "<img src=\"https://s3-api.us-geo.objectstorage.softlayer.net/cf-courses-data/CognitiveClass/DL0110EN/notebook_images%20/chapter%201/1.3.1_trasform.png\" width=\"500\" alt=\"Compose PyTorch\">"
      ]
    },
    {
      "cell_type": "code",
      "metadata": {
        "id": "QvjtQPLDs92t",
        "colab_type": "code",
        "colab": {}
      },
      "source": [
        "class mult(object):\n",
        "\n",
        "    def __init__(self, mult = 100):\n",
        "        self.mult = mult\n",
        "        \n",
        "    def __call__(self, sample):\n",
        "        x = sample[0]\n",
        "        y = sample[1]\n",
        "        x = x * self.mult\n",
        "        y = y * self.mult\n",
        "        sample = x, y\n",
        "        return sample"
      ],
      "execution_count": 0,
      "outputs": []
    },
    {
      "cell_type": "markdown",
      "metadata": {
        "id": "3ESrFSQkLZ0p",
        "colab_type": "text"
      },
      "source": [
        "transform add_mult와 mult를 하나로 처리한다."
      ]
    },
    {
      "cell_type": "markdown",
      "metadata": {
        "id": "zuJvX__1L4iP",
        "colab_type": "text"
      },
      "source": [
        "### 3.1 Dataset 단일적용"
      ]
    },
    {
      "cell_type": "code",
      "metadata": {
        "id": "Sa1qe_B6s92x",
        "colab_type": "code",
        "colab": {}
      },
      "source": [
        "data_transform = transforms.Compose([add_mult(), mult()])"
      ],
      "execution_count": 0,
      "outputs": []
    },
    {
      "cell_type": "code",
      "metadata": {
        "id": "wpVD2OeMs921",
        "colab_type": "code",
        "outputId": "061ff1f9-45b7-4d87-be1a-53e858c4fb2d",
        "colab": {
          "base_uri": "https://localhost:8080/",
          "height": 34
        }
      },
      "source": [
        "data_transform(data_set[0])"
      ],
      "execution_count": 19,
      "outputs": [
        {
          "output_type": "execute_result",
          "data": {
            "text/plain": [
              "(tensor([300., 300.]), tensor([200.]))"
            ]
          },
          "metadata": {
            "tags": []
          },
          "execution_count": 19
        }
      ]
    },
    {
      "cell_type": "code",
      "metadata": {
        "id": "gkiYtIFVs924",
        "colab_type": "code",
        "outputId": "9bfbe146-d11d-4ebf-e1f7-4168e177b946",
        "colab": {
          "base_uri": "https://localhost:8080/",
          "height": 51
        }
      },
      "source": [
        "x,y=data_set[0]\n",
        "x_,y_=data_transform(data_set[0])\n",
        "print( 'Original x: ', x, 'Original y: ', y)\n",
        "print( 'Transformed x_:', x_, 'Transformed y_:', y_)"
      ],
      "execution_count": 20,
      "outputs": [
        {
          "output_type": "stream",
          "text": [
            "Original x:  tensor([2., 2.]) Original y:  tensor([1.])\n",
            "Transformed x_: tensor([300., 300.]) Transformed y_: tensor([200.])\n"
          ],
          "name": "stdout"
        }
      ]
    },
    {
      "cell_type": "markdown",
      "metadata": {
        "id": "dPzLGXowLwYg",
        "colab_type": "text"
      },
      "source": [
        "### 3.2 Dataset 전체적용"
      ]
    },
    {
      "cell_type": "code",
      "metadata": {
        "id": "OfX2VH7js927",
        "colab_type": "code",
        "colab": {}
      },
      "source": [
        "compose_data_set = toy_set(transform = data_transform)"
      ],
      "execution_count": 0,
      "outputs": []
    },
    {
      "cell_type": "markdown",
      "metadata": {
        "id": "v1h3DEIms92_",
        "colab_type": "text"
      },
      "source": [
        "Let us print out the first 3 elements in different <code>toy_set</code> datasets in order to compare the output after different transforms have been applied: "
      ]
    },
    {
      "cell_type": "code",
      "metadata": {
        "id": "7Mptgjsns93A",
        "colab_type": "code",
        "outputId": "a6c020e8-9c17-4b85-8582-9203454a16ae",
        "colab": {
          "base_uri": "https://localhost:8080/",
          "height": 374
        }
      },
      "source": [
        "for i in range(3):\n",
        "    print('Original')\n",
        "    x, y = data_set[i]\n",
        "    print( x, y)\n",
        "    x_, y_ = cust_data_set[i]\n",
        "    print('Transformed')\n",
        "    print(x_, y_)\n",
        "    print('Compose Transformed: ')\n",
        "    x_co, y_co = compose_data_set[i]\n",
        "    print(x_co ,y_co)\n",
        "    print('-'*30)"
      ],
      "execution_count": 24,
      "outputs": [
        {
          "output_type": "stream",
          "text": [
            "Original\n",
            "tensor([2., 2.]) tensor([1.])\n",
            "Transformed\n",
            "tensor([3., 3.]) tensor([2.])\n",
            "Compose Transformed: \n",
            "tensor([300., 300.]) tensor([200.])\n",
            "------------------------------\n",
            "Original\n",
            "tensor([2., 2.]) tensor([1.])\n",
            "Transformed\n",
            "tensor([3., 3.]) tensor([2.])\n",
            "Compose Transformed: \n",
            "tensor([300., 300.]) tensor([200.])\n",
            "------------------------------\n",
            "Original\n",
            "tensor([2., 2.]) tensor([1.])\n",
            "Transformed\n",
            "tensor([3., 3.]) tensor([2.])\n",
            "Compose Transformed: \n",
            "tensor([300., 300.]) tensor([200.])\n",
            "------------------------------\n"
          ],
          "name": "stdout"
        }
      ]
    }
  ]
}