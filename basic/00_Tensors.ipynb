{
  "nbformat": 4,
  "nbformat_minor": 0,
  "metadata": {
    "kernelspec": {
      "display_name": "Python",
      "language": "python",
      "name": "conda-env-python-py"
    },
    "language_info": {
      "codemirror_mode": {
        "name": "ipython",
        "version": 3
      },
      "file_extension": ".py",
      "mimetype": "text/x-python",
      "name": "python",
      "nbconvert_exporter": "python",
      "pygments_lexer": "ipython3",
      "version": "3.6.7"
    },
    "colab": {
      "name": "00_Tensors.ipynb",
      "provenance": [],
      "toc_visible": true,
      "include_colab_link": true
    },
    "accelerator": "GPU"
  },
  "cells": [
    {
      "cell_type": "markdown",
      "metadata": {
        "id": "view-in-github",
        "colab_type": "text"
      },
      "source": [
        "<a href=\"https://colab.research.google.com/github/gwangjinjeong/Pytorch/blob/master/basic/00_Tensors.ipynb\" target=\"_parent\"><img src=\"https://colab.research.google.com/assets/colab-badge.svg\" alt=\"Open In Colab\"/></a>"
      ]
    },
    {
      "cell_type": "markdown",
      "metadata": {
        "id": "RIZX2utb87HI",
        "colab_type": "text"
      },
      "source": [
        "## 0. Preparation"
      ]
    },
    {
      "cell_type": "code",
      "metadata": {
        "id": "7NI9QbGW87HK",
        "colab_type": "code",
        "outputId": "3c41fee4-2298-4de0-f098-ec2a96b274e9",
        "colab": {
          "base_uri": "https://localhost:8080/",
          "height": 34
        }
      },
      "source": [
        "# These are the libraries will be used for this lab.\n",
        "import torch \n",
        "import numpy as np \n",
        "import pandas as pd\n",
        "\n",
        "import matplotlib.pyplot as plt\n",
        "%matplotlib inline  \n",
        "torch.__version__"
      ],
      "execution_count": 2,
      "outputs": [
        {
          "output_type": "execute_result",
          "data": {
            "text/plain": [
              "'1.4.0'"
            ]
          },
          "metadata": {
            "tags": []
          },
          "execution_count": 2
        }
      ]
    },
    {
      "cell_type": "markdown",
      "metadata": {
        "id": "p_9GTNU187HW",
        "colab_type": "text"
      },
      "source": [
        "This is the function for plotting diagrams. You will use this function to plot the vectors in Coordinate system."
      ]
    },
    {
      "cell_type": "code",
      "metadata": {
        "jupyter": {
          "outputs_hidden": false
        },
        "id": "oauMew7a87HX",
        "colab_type": "code",
        "colab": {}
      },
      "source": [
        "# Plot vecotrs, please keep the parameters in the same length\n",
        "# @param: Vectors = [{\"vector\": vector variable, \"name\": name of vector, \"color\": color of the vector on diagram}]   \n",
        "def plotVec(vectors):\n",
        "  ax1 = plt.axes()\n",
        "  # For loop to draw the vectors\n",
        "  for vec in vectors:\n",
        "    ax.arrow(0, 0, *vec[\"vector\"], head_width = 0.05,color = vec[\"color\"], head_length = 0.1)\n",
        "    plt.text(*(vec[\"vector\"] + 0.1), vec[\"name\"])\n",
        "\n",
        "  plt.ylim(-2,2)\n",
        "  plt.xlim(-2,2)"
      ],
      "execution_count": 0,
      "outputs": []
    },
    {
      "cell_type": "markdown",
      "metadata": {
        "id": "SKyQd0iG87Hc",
        "colab_type": "text"
      },
      "source": [
        "<!--Empty Space for separating topics-->"
      ]
    },
    {
      "cell_type": "markdown",
      "metadata": {
        "id": "SLZH1LGL87He",
        "colab_type": "text"
      },
      "source": [
        "## 1. Types and Shape"
      ]
    },
    {
      "cell_type": "markdown",
      "metadata": {
        "id": "9ucgw3wj8a-n",
        "colab_type": "text"
      },
      "source": [
        "int로 이뤄진 list를 Tensor로 바꾸는 과정\n"
      ]
    },
    {
      "cell_type": "code",
      "metadata": {
        "jupyter": {
          "outputs_hidden": false
        },
        "id": "EuKk60Tc87Hg",
        "colab_type": "code",
        "outputId": "ecc279bb-c17f-4bcb-98c6-aae447cb4589",
        "colab": {
          "base_uri": "https://localhost:8080/",
          "height": 51
        }
      },
      "source": [
        "int64tensor = torch.tensor([0, 1, 2, 3, 4])\n",
        "print(int64tensor.dtype)\n",
        "print(int64tensor.type())"
      ],
      "execution_count": 0,
      "outputs": [
        {
          "output_type": "stream",
          "text": [
            "torch.int64\n",
            "torch.LongTensor\n"
          ],
          "name": "stdout"
        }
      ]
    },
    {
      "cell_type": "markdown",
      "metadata": {
        "id": "BH_KzUYa8Xem",
        "colab_type": "text"
      },
      "source": [
        "Float로 이뤄진 list를 Tensor로 바꾸는 과정"
      ]
    },
    {
      "cell_type": "code",
      "metadata": {
        "jupyter": {
          "outputs_hidden": false
        },
        "id": "CoiVRJo687Hr",
        "colab_type": "code",
        "outputId": "57a37f00-476e-4693-8f99-fcef6a0a739c",
        "colab": {
          "base_uri": "https://localhost:8080/",
          "height": 51
        }
      },
      "source": [
        "floatTensor = torch.tensor([0.0, 1.0, 2.0, 3.0, 4.0])\n",
        "print(floatTensor.dtype)\n",
        "print(floatTensor.type())"
      ],
      "execution_count": 0,
      "outputs": [
        {
          "output_type": "stream",
          "text": [
            "torch.float32\n",
            "torch.FloatTensor\n"
          ],
          "name": "stdout"
        }
      ]
    },
    {
      "cell_type": "markdown",
      "metadata": {
        "id": "XeKusaAV87Hv",
        "colab_type": "text"
      },
      "source": [
        "Float로 이뤄진 list를 int Tensor로 바꾸는 과정"
      ]
    },
    {
      "cell_type": "code",
      "metadata": {
        "id": "DlHZxDkc87Hz",
        "colab_type": "code",
        "outputId": "24f68803-6b73-4513-d678-97f65a5d3174",
        "colab": {
          "base_uri": "https://localhost:8080/",
          "height": 51
        }
      },
      "source": [
        "print(\"The dtype of tensor object is: \", floatTensor.dtype)\n",
        "print(\"The type of tensor object is: \", floatTensor.type())"
      ],
      "execution_count": 0,
      "outputs": [
        {
          "output_type": "stream",
          "text": [
            "The dtype of tensor object is:  torch.float32\n",
            "The type of tensor object is:  torch.FloatTensor\n"
          ],
          "name": "stdout"
        }
      ]
    },
    {
      "cell_type": "markdown",
      "metadata": {
        "id": "1QgkJ9-R9MrO",
        "colab_type": "text"
      },
      "source": [
        "### 1.1 Method\n",
        "* Size : tensor내 element 갯수\n",
        "* ndimension : tensor의 차원 [1차원 : (0) // 2차원 : (0,0)]\n",
        "* view : tensor 확인\n"
      ]
    },
    {
      "cell_type": "code",
      "metadata": {
        "id": "zZVHDZ2d87II",
        "colab_type": "code",
        "outputId": "814f6378-21e5-4d50-c48e-9f2eaa7d9d22",
        "colab": {
          "base_uri": "https://localhost:8080/",
          "height": 238
        }
      },
      "source": [
        "print('Before')\n",
        "print(floatTensor,\n",
        "      floatTensor.size(),\n",
        "      floatTensor.ndimension(),sep='\\n')\n",
        "print()\n",
        "print('After')\n",
        "twoD_floatTensor = floatTensor.view(5, 1)\n",
        "print(twoD_floatTensor,\n",
        "      twoD_floatTensor.size(),\n",
        "      twoD_floatTensor.ndimension(), sep='\\n')\n",
        "# 전치를 만드는 쉬운방법\n",
        "twoD_floatTensor = floatTensor.view(-1, 1)\n"
      ],
      "execution_count": 0,
      "outputs": [
        {
          "output_type": "stream",
          "text": [
            "Before\n",
            "tensor([0., 1., 2., 3., 4.])\n",
            "torch.Size([5])\n",
            "1\n",
            "\n",
            "After\n",
            "tensor([[0.],\n",
            "        [1.],\n",
            "        [2.],\n",
            "        [3.],\n",
            "        [4.]])\n",
            "torch.Size([5, 1])\n",
            "2\n"
          ],
          "name": "stdout"
        }
      ]
    },
    {
      "cell_type": "markdown",
      "metadata": {
        "id": "VLrsXQcFAVuK",
        "colab_type": "text"
      },
      "source": [
        "### 1.2 Numpy array to a tensor"
      ]
    },
    {
      "cell_type": "code",
      "metadata": {
        "id": "B7LHXfv1BGut",
        "colab_type": "code",
        "colab": {}
      },
      "source": [
        "np_array = np.array([0.0, 1.0, 2.0, 3.0, 4.0])"
      ],
      "execution_count": 0,
      "outputs": []
    },
    {
      "cell_type": "code",
      "metadata": {
        "id": "taRxUtR687Ic",
        "colab_type": "code",
        "outputId": "940583cd-f5a5-446c-b5b2-bf0d65a18fec",
        "colab": {
          "base_uri": "https://localhost:8080/",
          "height": 85
        }
      },
      "source": [
        "new_tensor = torch.from_numpy(np_array)\n",
        "print(new_tensor.dtype)\n",
        "print(new_tensor.type())\n",
        "back_to_numpy = new_tensor.numpy()\n",
        "print(back_to_numpy)\n",
        "print(back_to_numpy.dtype)"
      ],
      "execution_count": 0,
      "outputs": [
        {
          "output_type": "stream",
          "text": [
            "torch.float64\n",
            "torch.DoubleTensor\n",
            "[0. 1. 2. 3. 4.]\n",
            "float64\n"
          ],
          "name": "stdout"
        }
      ]
    },
    {
      "cell_type": "markdown",
      "metadata": {
        "id": "lZDQJg8gBeer",
        "colab_type": "text"
      },
      "source": [
        "Array와 Tensor간에는 연결되어있다."
      ]
    },
    {
      "cell_type": "code",
      "metadata": {
        "id": "jGmJIBMT87In",
        "colab_type": "code",
        "outputId": "7cffb164-7938-47c1-e4ee-f14025a79269",
        "colab": {
          "base_uri": "https://localhost:8080/",
          "height": 51
        }
      },
      "source": [
        "np_array[:] = 0\n",
        "print(new_tensor)\n",
        "print(back_to_numpy)"
      ],
      "execution_count": 0,
      "outputs": [
        {
          "output_type": "stream",
          "text": [
            "tensor([0., 0., 0., 0., 0.], dtype=torch.float64)\n",
            "[0. 0. 0. 0. 0.]\n"
          ],
          "name": "stdout"
        }
      ]
    },
    {
      "cell_type": "markdown",
      "metadata": {
        "id": "DCdHqlG987Is",
        "colab_type": "text"
      },
      "source": [
        "### 1.3 Pandas series to Tensor"
      ]
    },
    {
      "cell_type": "code",
      "metadata": {
        "id": "GR_akAeQBruJ",
        "colab_type": "code",
        "colab": {}
      },
      "source": [
        "pandas_series=pd.Series([0.1, 2, 0.3, 10.1])"
      ],
      "execution_count": 0,
      "outputs": []
    },
    {
      "cell_type": "code",
      "metadata": {
        "id": "e9N9pGCY87It",
        "colab_type": "code",
        "outputId": "69d2297b-04d5-4634-f3b6-9893b586871c",
        "colab": {
          "base_uri": "https://localhost:8080/",
          "height": 68
        }
      },
      "source": [
        "new_tensor=torch.from_numpy(pandas_series.values)\n",
        "print(new_tensor)\n",
        "print(new_tensor.dtype)\n",
        "print(new_tensor.type())"
      ],
      "execution_count": 0,
      "outputs": [
        {
          "output_type": "stream",
          "text": [
            "tensor([ 0.1000,  2.0000,  0.3000, 10.1000], dtype=torch.float64)\n",
            "torch.float64\n",
            "torch.DoubleTensor\n"
          ],
          "name": "stdout"
        }
      ]
    },
    {
      "cell_type": "code",
      "metadata": {
        "id": "n57kKjWp87Ix",
        "colab_type": "code",
        "colab": {}
      },
      "source": [
        "this_tensor=torch.tensor([0,1,2,3]) "
      ],
      "execution_count": 0,
      "outputs": []
    },
    {
      "cell_type": "markdown",
      "metadata": {
        "id": "fZaaFZ9f87I2",
        "colab_type": "text"
      },
      "source": [
        "**.item** method를 사용하면 해당 Tensor의 값을 반환한다."
      ]
    },
    {
      "cell_type": "code",
      "metadata": {
        "colab_type": "code",
        "outputId": "ac039e53-bf89-46c6-fed9-f56f8dad409d",
        "id": "nPsy4pKYCAO7",
        "colab": {
          "base_uri": "https://localhost:8080/",
          "height": 51
        }
      },
      "source": [
        "print(this_tensor[0].item())\n",
        "print(type(this_tensor[0].item()))"
      ],
      "execution_count": 0,
      "outputs": [
        {
          "output_type": "stream",
          "text": [
            "0\n",
            "<class 'int'>\n"
          ],
          "name": "stdout"
        }
      ]
    },
    {
      "cell_type": "markdown",
      "metadata": {
        "colab_type": "text",
        "id": "wggSMgXmCAA0"
      },
      "source": [
        "**tolist()** method를 사용하면 Tensor를 list로 반환"
      ]
    },
    {
      "cell_type": "code",
      "metadata": {
        "id": "S27vp4jK87I7",
        "colab_type": "code",
        "outputId": "715a154d-ae64-4900-e77b-b1e613909763",
        "colab": {
          "base_uri": "https://localhost:8080/",
          "height": 51
        }
      },
      "source": [
        "torch_to_list=this_tensor.tolist()\n",
        "\n",
        "print('tensor:', this_tensor,\"\\nlist:\",torch_to_list)"
      ],
      "execution_count": 0,
      "outputs": [
        {
          "output_type": "stream",
          "text": [
            "tensor: tensor([0, 1, 2, 3]) \n",
            "list: [0, 1, 2, 3]\n"
          ],
          "name": "stdout"
        }
      ]
    },
    {
      "cell_type": "markdown",
      "metadata": {
        "id": "H6IHJQO687JL",
        "colab_type": "text"
      },
      "source": [
        "## 2. Indexing and Slicing"
      ]
    },
    {
      "cell_type": "code",
      "metadata": {
        "jupyter": {
          "outputs_hidden": false
        },
        "id": "fiDCKHxJ87JY",
        "colab_type": "code",
        "colab": {}
      },
      "source": [
        "tensor_sample = torch.tensor([20, 1, 2, 3, 4])"
      ],
      "execution_count": 0,
      "outputs": []
    },
    {
      "cell_type": "markdown",
      "metadata": {
        "id": "jBd0yPsgDee0",
        "colab_type": "text"
      },
      "source": [
        "첫번째 sample을 바꾼다고 한다면,"
      ]
    },
    {
      "cell_type": "code",
      "metadata": {
        "jupyter": {
          "outputs_hidden": false
        },
        "id": "wjOVPhVy87Jc",
        "colab_type": "code",
        "outputId": "1f05b409-4a04-4106-ddc5-49a82de95894",
        "colab": {
          "base_uri": "https://localhost:8080/",
          "height": 51
        }
      },
      "source": [
        "print(tensor_sample)\n",
        "tensor_sample[0] = 100\n",
        "print(tensor_sample)"
      ],
      "execution_count": 0,
      "outputs": [
        {
          "output_type": "stream",
          "text": [
            "tensor([20,  1,  2,  3,  4])\n",
            "tensor([100,   1,   2,   3,   4])\n"
          ],
          "name": "stdout"
        }
      ]
    },
    {
      "cell_type": "markdown",
      "metadata": {
        "id": "imdv2x5FEKDy",
        "colab_type": "text"
      },
      "source": [
        "일부분만 바꿀 수 도있다."
      ]
    },
    {
      "cell_type": "code",
      "metadata": {
        "jupyter": {
          "outputs_hidden": false
        },
        "id": "NWilNsPz87J7",
        "colab_type": "code",
        "outputId": "9c841aa3-d5be-413c-ae41-97e41f15f5c7",
        "colab": {
          "base_uri": "https://localhost:8080/",
          "height": 51
        }
      },
      "source": [
        "print(tensor_sample)\n",
        "tensor_sample[[1, 3]] = 100000\n",
        "print(tensor_sample)"
      ],
      "execution_count": 0,
      "outputs": [
        {
          "output_type": "stream",
          "text": [
            "tensor([100,   1,   2,   3,   4])\n",
            "tensor([   100, 100000,      2, 100000,      4])\n"
          ],
          "name": "stdout"
        }
      ]
    },
    {
      "cell_type": "markdown",
      "metadata": {
        "id": "we7iZW-v87KI",
        "colab_type": "text"
      },
      "source": [
        "## 3. Tensor Functions"
      ]
    },
    {
      "cell_type": "code",
      "metadata": {
        "id": "UCcSwkGd87KM",
        "colab_type": "code",
        "colab": {}
      },
      "source": [
        "math_tensor = torch.tensor([1.0, -2.0, 3, -4])"
      ],
      "execution_count": 0,
      "outputs": []
    },
    {
      "cell_type": "code",
      "metadata": {
        "jupyter": {
          "outputs_hidden": false
        },
        "id": "6Gvq1Fl087KR",
        "colab_type": "code",
        "outputId": "219b9504-45e9-43ad-866b-1a9c62630177",
        "colab": {
          "base_uri": "https://localhost:8080/",
          "height": 85
        }
      },
      "source": [
        "print(\"The mean of math_tensor: \", math_tensor.mean())\n",
        "print(\"The standard deviation of math_tensor: \", math_tensor.std())\n",
        "print(\"The max of math_tensor\", math_tensor.max())\n",
        "print(\"The min of math_tensor \", math_tensor.min())"
      ],
      "execution_count": 0,
      "outputs": [
        {
          "output_type": "stream",
          "text": [
            "The mean of math_tensor:  tensor(-0.5000)\n",
            "The standard deviation of math_tensor:  tensor(3.1091)\n",
            "The max of math_tensor tensor(3.)\n",
            "The min of math_tensor  tensor(-4.)\n"
          ],
          "name": "stdout"
        }
      ]
    },
    {
      "cell_type": "markdown",
      "metadata": {
        "id": "F1T2ui3w87K9",
        "colab_type": "text"
      },
      "source": [
        "### 3.1 Draw Sin graph"
      ]
    },
    {
      "cell_type": "markdown",
      "metadata": {
        "id": "GGwZklhDH99J",
        "colab_type": "text"
      },
      "source": [
        "**torch.linspace()**"
      ]
    },
    {
      "cell_type": "markdown",
      "metadata": {
        "id": "F7TPfZB5Hm56",
        "colab_type": "text"
      },
      "source": [
        "steps parameter"
      ]
    },
    {
      "cell_type": "code",
      "metadata": {
        "jupyter": {
          "outputs_hidden": false
        },
        "id": "EBXngSYH87LA",
        "colab_type": "code",
        "outputId": "c631204b-f674-4e3c-8f7c-f61e94196c8c",
        "colab": {
          "base_uri": "https://localhost:8080/",
          "height": 68
        }
      },
      "source": [
        "# First try on using linspace to create tensor\n",
        "len_5_tensor = torch.linspace(-2, 2, steps = 5)\n",
        "len_9_tensor = torch.linspace(-2, 2, steps = 9)\n",
        "print (len_5_tensor)\n",
        "print (len_9_tensor)"
      ],
      "execution_count": 0,
      "outputs": [
        {
          "output_type": "stream",
          "text": [
            "tensor([-2., -1.,  0.,  1.,  2.])\n",
            "tensor([-2.0000, -1.5000, -1.0000, -0.5000,  0.0000,  0.5000,  1.0000,  1.5000,\n",
            "         2.0000])\n"
          ],
          "name": "stdout"
        }
      ]
    },
    {
      "cell_type": "code",
      "metadata": {
        "jupyter": {
          "outputs_hidden": false
        },
        "id": "SE5eu8e_87LI",
        "colab_type": "code",
        "colab": {}
      },
      "source": [
        "# Construct the tensor within 0 to 360 degree\n",
        "pi_tensor = torch.linspace(0, 2*np.pi, 100)\n",
        "sin_result = torch.sin(pi_tensor)"
      ],
      "execution_count": 0,
      "outputs": []
    },
    {
      "cell_type": "markdown",
      "metadata": {
        "id": "6NV3MoR287LK",
        "colab_type": "text"
      },
      "source": [
        "Plot the result to get a clearer picture. You must cast the tensor to a numpy array before plotting it."
      ]
    },
    {
      "cell_type": "code",
      "metadata": {
        "jupyter": {
          "outputs_hidden": false
        },
        "id": "1ZWG1UTv87LL",
        "colab_type": "code",
        "outputId": "685f4308-042c-419d-b2aa-e5eac80660ed",
        "colab": {
          "base_uri": "https://localhost:8080/",
          "height": 282
        }
      },
      "source": [
        "plt.plot(pi_tensor.numpy(), sin_result.numpy())"
      ],
      "execution_count": 0,
      "outputs": [
        {
          "output_type": "execute_result",
          "data": {
            "text/plain": [
              "[<matplotlib.lines.Line2D at 0x7ff0c4453a20>]"
            ]
          },
          "metadata": {
            "tags": []
          },
          "execution_count": 60
        },
        {
          "output_type": "display_data",
          "data": {
            "image/png": "[encoded data removed]",
            "text/plain": [
              "<Figure size 432x288 with 1 Axes>"
            ]
          },
          "metadata": {
            "tags": []
          }
        }
      ]
    },
    {
      "cell_type": "markdown",
      "metadata": {
        "id": "7OX_HAci87LV",
        "colab_type": "text"
      },
      "source": [
        "## 4. Tensor Operations"
      ]
    },
    {
      "cell_type": "code",
      "metadata": {
        "jupyter": {
          "outputs_hidden": false
        },
        "id": "HhLpCKca87LZ",
        "colab_type": "code",
        "colab": {}
      },
      "source": [
        "u = torch.tensor([1, 0])\n",
        "v = torch.tensor([0, 1])"
      ],
      "execution_count": 0,
      "outputs": []
    },
    {
      "cell_type": "code",
      "metadata": {
        "jupyter": {
          "outputs_hidden": false
        },
        "id": "bBPHg7sj87Lc",
        "colab_type": "code",
        "outputId": "482ad3a5-2b86-4946-e8ba-5c6657cf6bbc",
        "colab": {
          "base_uri": "https://localhost:8080/",
          "height": 119
        }
      },
      "source": [
        "print('u + v = ',u + v)\n",
        "print('u - v = ',u-v)\n",
        "print('u + 1 = ',u + 1)\n",
        "print('2 * u = ',2 * u)\n",
        "print('u * v = ',u*v)\n",
        "print('u o v = ',torch.dot(u,v))"
      ],
      "execution_count": 0,
      "outputs": [
        {
          "output_type": "stream",
          "text": [
            "u + v =  tensor([1, 1])\n",
            "u - v =  tensor([ 1, -1])\n",
            "u + 1 =  tensor([2, 1])\n",
            "2 * u =  tensor([2, 0])\n",
            "u * v =  tensor([0, 0])\n",
            "u o v =  tensor(0)\n"
          ],
          "name": "stdout"
        }
      ]
    },
    {
      "cell_type": "markdown",
      "metadata": {
        "id": "WwX75EHbmKeb",
        "colab_type": "text"
      },
      "source": [
        "matrix multiplication"
      ]
    },
    {
      "cell_type": "code",
      "metadata": {
        "id": "kXW6tbq-mIWX",
        "colab_type": "code",
        "colab": {
          "base_uri": "https://localhost:8080/",
          "height": 51
        },
        "outputId": "f933c2b8-8d7e-41f1-cc0e-7b99a56faba5"
      },
      "source": [
        "A = torch.tensor([[0, 1, 1], [1, 0, 1]])\n",
        "B = torch.tensor([[1, 1], [1, 1], [-1, 1]])\n",
        "\n",
        "A_times_B = torch.mm(A,B)\n",
        "print(\"The result of A * B: \", A_times_B)"
      ],
      "execution_count": 3,
      "outputs": [
        {
          "output_type": "stream",
          "text": [
            "The result of A * B:  tensor([[0, 2],\n",
            "        [0, 2]])\n"
          ],
          "name": "stdout"
        }
      ]
    }
  ]
}