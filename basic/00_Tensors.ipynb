{
  "nbformat": 4,
  "nbformat_minor": 0,
  "metadata": {
    "kernelspec": {
      "display_name": "Python",
      "language": "python",
      "name": "conda-env-python-py"
    },
    "language_info": {
      "codemirror_mode": {
        "name": "ipython",
        "version": 3
      },
      "file_extension": ".py",
      "mimetype": "text/x-python",
      "name": "python",
      "nbconvert_exporter": "python",
      "pygments_lexer": "ipython3",
      "version": "3.6.7"
    },
    "colab": {
      "name": "00_Tensors.ipynb",
      "provenance": [],
      "collapsed_sections": [],
      "toc_visible": true,
      "include_colab_link": true
    },
    "accelerator": "GPU"
  },
  "cells": [
    {
      "cell_type": "markdown",
      "metadata": {
        "id": "view-in-github",
        "colab_type": "text"
      },
      "source": [
        "<a href=\"https://colab.research.google.com/github/gwangjinjeong/Pytorch/blob/master/basic/00_Tensors.ipynb\" target=\"_parent\"><img src=\"https://colab.research.google.com/assets/colab-badge.svg\" alt=\"Open In Colab\"/></a>"
      ]
    },
    {
      "cell_type": "markdown",
      "metadata": {
        "id": "RIZX2utb87HI",
        "colab_type": "text"
      },
      "source": [
        "# *0. Preparation*"
      ]
    },
    {
      "cell_type": "code",
      "metadata": {
        "id": "7NI9QbGW87HK",
        "colab_type": "code",
        "outputId": "e1b867b3-cffa-4f3a-fe96-e25155b2f9ae",
        "colab": {
          "base_uri": "https://localhost:8080/",
          "height": 34
        }
      },
      "source": [
        "# These are the libraries will be used for this lab.\n",
        "import torch \n",
        "import numpy as np \n",
        "import pandas as pd\n",
        "\n",
        "import matplotlib.pyplot as plt\n",
        "%matplotlib inline  \n",
        "torch.__version__"
      ],
      "execution_count": 4,
      "outputs": [
        {
          "output_type": "execute_result",
          "data": {
            "text/plain": [
              "'1.4.0'"
            ]
          },
          "metadata": {
            "tags": []
          },
          "execution_count": 4
        }
      ]
    },
    {
      "cell_type": "markdown",
      "metadata": {
        "id": "SKyQd0iG87Hc",
        "colab_type": "text"
      },
      "source": [
        "<!--  -->"
      ]
    },
    {
      "cell_type": "markdown",
      "metadata": {
        "id": "9ZfbqlugEN9d",
        "colab_type": "text"
      },
      "source": [
        "# *1. Numpy Review*\n",
        "Pytorch에 사용되는 Tensor는 Numpy와 매우 유사하다.\n",
        "그러므로 Numpy를 간단하게 짚고 넘어간 후에 알아보자"
      ]
    },
    {
      "cell_type": "code",
      "metadata": {
        "colab_type": "code",
        "outputId": "af136ebc-90e0-48fd-b18e-e788dd0a1a07",
        "id": "oCqopqL_EvBb",
        "colab": {
          "base_uri": "https://localhost:8080/",
          "height": 68
        }
      },
      "source": [
        "# 1D array\n",
        "np_1D = np.array([0., 1., 2., 3., 4., 5.,6.])\n",
        "print(np_1D)\n",
        "print(f'Rank of t: {np_1D.ndim}')\n",
        "print(f'Shape of t: {np_1D.shape}')"
      ],
      "execution_count": 49,
      "outputs": [
        {
          "output_type": "stream",
          "text": [
            "[0. 1. 2. 3. 4. 5. 6.]\n",
            "Rank of t: 1\n",
            "Shape of t: (7,)\n"
          ],
          "name": "stdout"
        }
      ]
    },
    {
      "cell_type": "code",
      "metadata": {
        "colab_type": "code",
        "outputId": "4493c6e8-0a1f-4738-9058-9ac3e2d25878",
        "id": "c6F-ECH_EvBV",
        "colab": {
          "base_uri": "https://localhost:8080/",
          "height": 102
        }
      },
      "source": [
        "# 2D array\n",
        "np_2D = np.array([[0., 1., 2.], [3.,4.,5.], [6.,7.,8.]])\n",
        "print(np_2D)\n",
        "print(f'Rank of t: {np_2D.ndim}')\n",
        "print(f'Shape of t: {np_2D.shape}')"
      ],
      "execution_count": 50,
      "outputs": [
        {
          "output_type": "stream",
          "text": [
            "[[0. 1. 2.]\n",
            " [3. 4. 5.]\n",
            " [6. 7. 8.]]\n",
            "Rank of t: 2\n",
            "Shape of t: (3, 3)\n"
          ],
          "name": "stdout"
        }
      ]
    },
    {
      "cell_type": "markdown",
      "metadata": {
        "id": "cjZBQ-1jFKlT",
        "colab_type": "text"
      },
      "source": [
        "## *1.1 numpy to tensor*"
      ]
    },
    {
      "cell_type": "code",
      "metadata": {
        "colab_type": "code",
        "id": "WUwfvp6fFIgZ",
        "colab": {}
      },
      "source": [
        "np_1D = np.array([0., 1., 2., 3., 4., 5.,6.])"
      ],
      "execution_count": 0,
      "outputs": []
    },
    {
      "cell_type": "code",
      "metadata": {
        "colab_type": "code",
        "outputId": "15888609-a369-47d3-f9f9-2c96cf3be3ec",
        "id": "QYUcmkWAFIgL",
        "colab": {
          "base_uri": "https://localhost:8080/",
          "height": 68
        }
      },
      "source": [
        "# numpy to tensor\n",
        "new_tensor = torch.from_numpy(np_oneD_np1D)\n",
        "print(new_tensor)\n",
        "print(new_tensor.dtype)\n",
        "print(type(new_tensor))"
      ],
      "execution_count": 63,
      "outputs": [
        {
          "output_type": "stream",
          "text": [
            "tensor([0., 1., 2., 3., 4., 5., 6.], dtype=torch.float64)\n",
            "torch.float64\n",
            "<class 'torch.Tensor'>\n"
          ],
          "name": "stdout"
        }
      ]
    },
    {
      "cell_type": "code",
      "metadata": {
        "id": "OR-rtrE1FuZm",
        "colab_type": "code",
        "colab": {
          "base_uri": "https://localhost:8080/",
          "height": 68
        },
        "outputId": "bb8f17e6-9372-4828-d33e-b9ac7698297c"
      },
      "source": [
        "# tensor to numpy\n",
        "back_to_numpy = new_tensor.numpy()\n",
        "print(back_to_numpy)\n",
        "print(back_to_numpy.dtype)\n",
        "print(type(back_to_numpy))"
      ],
      "execution_count": 64,
      "outputs": [
        {
          "output_type": "stream",
          "text": [
            "[0. 1. 2. 3. 4. 5. 6.]\n",
            "float64\n",
            "<class 'numpy.ndarray'>\n"
          ],
          "name": "stdout"
        }
      ]
    },
    {
      "cell_type": "markdown",
      "metadata": {
        "id": "7pG33WjIF0hC",
        "colab_type": "text"
      },
      "source": [
        "***)** 바꾼 numpy와 tensor는 연결되어있다."
      ]
    },
    {
      "cell_type": "code",
      "metadata": {
        "colab_type": "code",
        "outputId": "1744aa1f-865a-41e1-dc0a-fb4a61f52edc",
        "id": "u9glpNsgEvA8",
        "colab": {
          "base_uri": "https://localhost:8080/",
          "height": 51
        }
      },
      "source": [
        "oneD_np += 1\n",
        "print(new_tensor)\n",
        "print(back_to_numpy)"
      ],
      "execution_count": 65,
      "outputs": [
        {
          "output_type": "stream",
          "text": [
            "tensor([1., 2., 3., 4., 5., 6., 7.], dtype=torch.float64)\n",
            "[1. 2. 3. 4. 5. 6. 7.]\n"
          ],
          "name": "stdout"
        }
      ]
    },
    {
      "cell_type": "markdown",
      "metadata": {
        "id": "DCdHqlG987Is",
        "colab_type": "text"
      },
      "source": [
        "## 1.2 Pandas series to Tensor"
      ]
    },
    {
      "cell_type": "code",
      "metadata": {
        "id": "GR_akAeQBruJ",
        "colab_type": "code",
        "colab": {}
      },
      "source": [
        "pandas_series=pd.Series([0.1, 2, 0.3, 10.1])"
      ],
      "execution_count": 0,
      "outputs": []
    },
    {
      "cell_type": "code",
      "metadata": {
        "id": "e9N9pGCY87It",
        "colab_type": "code",
        "outputId": "69d2297b-04d5-4634-f3b6-9893b586871c",
        "colab": {
          "base_uri": "https://localhost:8080/",
          "height": 68
        }
      },
      "source": [
        "new_tensor=torch.from_numpy(pandas_series.values)\n",
        "print(new_tensor)\n",
        "print(new_tensor.dtype)\n",
        "print(new_tensor.type())"
      ],
      "execution_count": 0,
      "outputs": [
        {
          "output_type": "stream",
          "text": [
            "tensor([ 0.1000,  2.0000,  0.3000, 10.1000], dtype=torch.float64)\n",
            "torch.float64\n",
            "torch.DoubleTensor\n"
          ],
          "name": "stdout"
        }
      ]
    },
    {
      "cell_type": "code",
      "metadata": {
        "id": "n57kKjWp87Ix",
        "colab_type": "code",
        "colab": {}
      },
      "source": [
        "this_tensor=torch.tensor([0,1,2,3]) "
      ],
      "execution_count": 0,
      "outputs": []
    },
    {
      "cell_type": "markdown",
      "metadata": {
        "id": "fZaaFZ9f87I2",
        "colab_type": "text"
      },
      "source": [
        "**.item** method를 사용하면 해당 Tensor의 값을 반환한다."
      ]
    },
    {
      "cell_type": "code",
      "metadata": {
        "colab_type": "code",
        "outputId": "ac039e53-bf89-46c6-fed9-f56f8dad409d",
        "id": "nPsy4pKYCAO7",
        "colab": {
          "base_uri": "https://localhost:8080/",
          "height": 51
        }
      },
      "source": [
        "print(this_tensor[0].item())\n",
        "print(type(this_tensor[0].item()))"
      ],
      "execution_count": 0,
      "outputs": [
        {
          "output_type": "stream",
          "text": [
            "0\n",
            "<class 'int'>\n"
          ],
          "name": "stdout"
        }
      ]
    },
    {
      "cell_type": "markdown",
      "metadata": {
        "colab_type": "text",
        "id": "wggSMgXmCAA0"
      },
      "source": [
        "**tolist()** method를 사용하면 Tensor를 list로 반환"
      ]
    },
    {
      "cell_type": "code",
      "metadata": {
        "id": "S27vp4jK87I7",
        "colab_type": "code",
        "outputId": "715a154d-ae64-4900-e77b-b1e613909763",
        "colab": {
          "base_uri": "https://localhost:8080/",
          "height": 51
        }
      },
      "source": [
        "torch_to_list=this_tensor.tolist()\n",
        "\n",
        "print('tensor:', this_tensor,\"\\nlist:\",torch_to_list)"
      ],
      "execution_count": 0,
      "outputs": [
        {
          "output_type": "stream",
          "text": [
            "tensor: tensor([0, 1, 2, 3]) \n",
            "list: [0, 1, 2, 3]\n"
          ],
          "name": "stdout"
        }
      ]
    },
    {
      "cell_type": "markdown",
      "metadata": {
        "id": "dycxTsNRGlzP",
        "colab_type": "text"
      },
      "source": [
        "<!--   -->"
      ]
    },
    {
      "cell_type": "markdown",
      "metadata": {
        "id": "SLZH1LGL87He",
        "colab_type": "text"
      },
      "source": [
        "# *2. Look into Tensor*"
      ]
    },
    {
      "cell_type": "markdown",
      "metadata": {
        "id": "Hem54gHWogKO",
        "colab_type": "text"
      },
      "source": [
        "2D Tensor   \n",
        "* 일반적인 상황\n",
        "* $|t| = (batch\\_size, dimension)$\n",
        "\n",
        "3D Tensor\n",
        "* 대표적으로 이미지 형태, NLP\n",
        "* 이미지 : $|t| = (batch\\_size,width,height)$\n",
        "* NLP : $|t| = (batch\\_size,length,dimension)$\n"
      ]
    },
    {
      "cell_type": "markdown",
      "metadata": {
        "id": "1QgkJ9-R9MrO",
        "colab_type": "text"
      },
      "source": [
        "---\n",
        "Contents\n",
        "* Size() : tensor내 element 갯수 same `shape`\n",
        "* ndimension() : tensor의 차원 [1차원 : (0) // 2차원 : (0,0)]\n",
        "* view() : `Reshape`\n",
        "* Squeeze() : dimention이 1인 경우 삭제해준다.\n",
        "* Unsqueeze() : dimention을 1 늘려준다.\n",
        "---"
      ]
    },
    {
      "cell_type": "markdown",
      "metadata": {
        "id": "X-PtEhOBOERJ",
        "colab_type": "text"
      },
      "source": [
        "## 2.1 Size() and ndimension()"
      ]
    },
    {
      "cell_type": "code",
      "metadata": {
        "id": "bYBGwxImEAcD",
        "colab_type": "code",
        "colab": {
          "base_uri": "https://localhost:8080/",
          "height": 34
        },
        "outputId": "69fc35b1-392b-401b-8480-6c2d49dc689d"
      },
      "source": [
        "oneD_T = torch.tensor([0, 1, 2, 3, 4]) # \n",
        "print(oneD_T)"
      ],
      "execution_count": 98,
      "outputs": [
        {
          "output_type": "stream",
          "text": [
            "tensor([0, 1, 2, 3, 4])\n"
          ],
          "name": "stdout"
        }
      ]
    },
    {
      "cell_type": "code",
      "metadata": {
        "id": "MqPRigx-I5Qk",
        "colab_type": "code",
        "colab": {
          "base_uri": "https://localhost:8080/",
          "height": 34
        },
        "outputId": "b004f045-1625-4bb0-8038-816b7a825022"
      },
      "source": [
        "oneD_FloatT = torch.FloatTensor([0, 1, 2, 3, 4]) # \n",
        "print(oneD_FloatT)"
      ],
      "execution_count": 99,
      "outputs": [
        {
          "output_type": "stream",
          "text": [
            "tensor([0., 1., 2., 3., 4.])\n"
          ],
          "name": "stdout"
        }
      ]
    },
    {
      "cell_type": "code",
      "metadata": {
        "id": "J-jAzcdZG86_",
        "colab_type": "code",
        "colab": {
          "base_uri": "https://localhost:8080/",
          "height": 102
        },
        "outputId": "f90b9e47-d0f2-4585-c27c-816afe5b6567"
      },
      "source": [
        "print('Before')\n",
        "print(oneD_T,\n",
        "      oneD_T.shape,\n",
        "      oneD_T.size(),\n",
        "      oneD_T.ndimension(),sep='\\n')"
      ],
      "execution_count": 102,
      "outputs": [
        {
          "output_type": "stream",
          "text": [
            "Before\n",
            "tensor([0, 1, 2, 3, 4])\n",
            "torch.Size([5])\n",
            "torch.Size([5])\n",
            "1\n"
          ],
          "name": "stdout"
        }
      ]
    },
    {
      "cell_type": "code",
      "metadata": {
        "id": "VwFDG5DfG_L4",
        "colab_type": "code",
        "colab": {
          "base_uri": "https://localhost:8080/",
          "height": 153
        },
        "outputId": "2731ca49-7bd5-4838-bdf5-ef858cc76524"
      },
      "source": [
        "print('After')\n",
        "twoD_T = oneD_T.view(5, 1)\n",
        "print(twoD_T,\n",
        "      twoD_T.size(),\n",
        "      twoD_T.ndimension(), sep='\\n')"
      ],
      "execution_count": 73,
      "outputs": [
        {
          "output_type": "stream",
          "text": [
            "After\n",
            "tensor([[0],\n",
            "        [1],\n",
            "        [2],\n",
            "        [3],\n",
            "        [4]])\n",
            "torch.Size([5, 1])\n",
            "2\n"
          ],
          "name": "stdout"
        }
      ]
    },
    {
      "cell_type": "markdown",
      "metadata": {
        "id": "QyK1M4kQMnBN",
        "colab_type": "text"
      },
      "source": [
        "## 2.2 View"
      ]
    },
    {
      "cell_type": "code",
      "metadata": {
        "id": "zZVHDZ2d87II",
        "colab_type": "code",
        "outputId": "481a15d2-c511-438b-9bf7-397253351d7e",
        "colab": {
          "base_uri": "https://localhost:8080/",
          "height": 102
        }
      },
      "source": [
        "# transposition\n",
        "oneD_T_transposition = oneD_T.view(-1, 1)\n",
        "print(oneD_T_transposition)"
      ],
      "execution_count": 74,
      "outputs": [
        {
          "output_type": "stream",
          "text": [
            "tensor([[0],\n",
            "        [1],\n",
            "        [2],\n",
            "        [3],\n",
            "        [4]])\n"
          ],
          "name": "stdout"
        }
      ]
    },
    {
      "cell_type": "markdown",
      "metadata": {
        "id": "29NLZPIfMwL5",
        "colab_type": "text"
      },
      "source": [
        "## 2.3 Squeeze and Unsqueeze"
      ]
    },
    {
      "cell_type": "markdown",
      "metadata": {
        "id": "P_v5a-XZOjDw",
        "colab_type": "text"
      },
      "source": [
        "Squeeze"
      ]
    },
    {
      "cell_type": "code",
      "metadata": {
        "id": "igh6WF1YMqdH",
        "colab_type": "code",
        "colab": {
          "base_uri": "https://localhost:8080/",
          "height": 85
        },
        "outputId": "bcb561ce-8d16-4577-9351-7345a946446c"
      },
      "source": [
        "tensor_sq = torch.tensor([[1], [2], [3]]) # not a vector\n",
        "print(tensor_sq.shape)\n",
        "print(tensor_sq)"
      ],
      "execution_count": 96,
      "outputs": [
        {
          "output_type": "stream",
          "text": [
            "torch.Size([3, 1])\n",
            "tensor([[1],\n",
            "        [2],\n",
            "        [3]])\n"
          ],
          "name": "stdout"
        }
      ]
    },
    {
      "cell_type": "markdown",
      "metadata": {
        "id": "L1y6M0TBMz_0",
        "colab_type": "text"
      },
      "source": [
        "Unsqueeze"
      ]
    },
    {
      "cell_type": "code",
      "metadata": {
        "id": "zbRft45gOoTg",
        "colab_type": "code",
        "colab": {
          "base_uri": "https://localhost:8080/",
          "height": 198
        },
        "outputId": "8c577708-f450-4fda-b322-b5182f6618eb"
      },
      "source": [
        "tensor_usq = torch.Tensor([0, 1, 2])\n",
        "print(tensor_usq)\n",
        "print(tensor_usq.shape)"
      ],
      "execution_count": 3,
      "outputs": [
        {
          "output_type": "error",
          "ename": "NameError",
          "evalue": "ignored",
          "traceback": [
            "\u001b[0;31m---------------------------------------------------------------------------\u001b[0m",
            "\u001b[0;31mNameError\u001b[0m                                 Traceback (most recent call last)",
            "\u001b[0;32m<ipython-input-3-7b6b672a57f3>\u001b[0m in \u001b[0;36m<module>\u001b[0;34m()\u001b[0m\n\u001b[0;32m----> 1\u001b[0;31m \u001b[0mtensor_usq\u001b[0m \u001b[0;34m=\u001b[0m \u001b[0mtorch\u001b[0m\u001b[0;34m.\u001b[0m\u001b[0mTensor\u001b[0m\u001b[0;34m(\u001b[0m\u001b[0;34m[\u001b[0m\u001b[0;36m0\u001b[0m\u001b[0;34m,\u001b[0m \u001b[0;36m1\u001b[0m\u001b[0;34m,\u001b[0m \u001b[0;36m2\u001b[0m\u001b[0;34m]\u001b[0m\u001b[0;34m)\u001b[0m\u001b[0;34m\u001b[0m\u001b[0;34m\u001b[0m\u001b[0m\n\u001b[0m\u001b[1;32m      2\u001b[0m \u001b[0mprint\u001b[0m\u001b[0;34m(\u001b[0m\u001b[0mtensor_usq\u001b[0m\u001b[0;34m)\u001b[0m\u001b[0;34m\u001b[0m\u001b[0;34m\u001b[0m\u001b[0m\n\u001b[1;32m      3\u001b[0m \u001b[0mprint\u001b[0m\u001b[0;34m(\u001b[0m\u001b[0mtensor_usq\u001b[0m\u001b[0;34m.\u001b[0m\u001b[0mshape\u001b[0m\u001b[0;34m)\u001b[0m\u001b[0;34m\u001b[0m\u001b[0;34m\u001b[0m\u001b[0m\n",
            "\u001b[0;31mNameError\u001b[0m: name 'torch' is not defined"
          ]
        }
      ]
    },
    {
      "cell_type": "code",
      "metadata": {
        "id": "oHAFSwZ2Ovc6",
        "colab_type": "code",
        "colab": {}
      },
      "source": [
        "print(tensor_usq.unsqueeze(0)) # print(tensor_usq.view(1, -1))\n",
        "print(tensor_usq.unsqueeze(0).shape)"
      ],
      "execution_count": 0,
      "outputs": []
    },
    {
      "cell_type": "code",
      "metadata": {
        "id": "FTlW0ALVOzhe",
        "colab_type": "code",
        "colab": {}
      },
      "source": [
        "print(tensor_usq.unsqueeze(1)) # print(tensor_usq.view(-1, 1))\n",
        "print(tensor_usq.unsqueeze(1).shape)"
      ],
      "execution_count": 0,
      "outputs": []
    },
    {
      "cell_type": "code",
      "metadata": {
        "id": "d6-FikuIGKbr",
        "colab_type": "code",
        "colab": {}
      },
      "source": [
        "print(tensor_usq.unsqueeze(-1))\n",
        "print(tensor_usq.unsqueeze(-1).shpae)"
      ],
      "execution_count": 0,
      "outputs": []
    },
    {
      "cell_type": "markdown",
      "metadata": {
        "id": "QrKbKwU6HzBW",
        "colab_type": "text"
      },
      "source": [
        "**practice**   \n",
        "1. make 3D numpy \n",
        "2. change the 3D Float Tensor\n",
        "3. using `view` chane the shape of 3D Tensor to 2D \n",
        "   \n",
        "$ T=\\begin{bmatrix}\n",
        "0 & 1 & 2 \\\\\n",
        "3 & 4 & 5 \\\\\n",
        "\\end{bmatrix}$\n",
        "$\n",
        ", \\begin{bmatrix}\n",
        "6 & 7 & 8 \\\\\n",
        "9 & 10 & 11\\\\\n",
        "\\end{bmatrix}\n",
        "$\n",
        "$\n",
        "=>\n",
        "\\begin{bmatrix}\n",
        "0 & 1 & 2 \\\\\n",
        "3 & 4 & 5 \\\\\n",
        "6 & 7 & 8 \\\\\n",
        "9 & 10 & 11 \\\\\n",
        "\\end{bmatrix}\n",
        "$\n"
      ]
    },
    {
      "cell_type": "code",
      "metadata": {
        "id": "EO5cU2fpJ7lb",
        "colab_type": "code",
        "colab": {}
      },
      "source": [
        ""
      ],
      "execution_count": 0,
      "outputs": []
    },
    {
      "cell_type": "markdown",
      "metadata": {
        "id": "NWZNMsyODrHg",
        "colab_type": "text"
      },
      "source": [
        "Double click this cell if you solve the problem\n",
        "<!-- Tensor 선언 -->\n",
        "<!-- \n",
        "threeD_np  = np.array([[[0, 1, 2],\n",
        "                  [3, 4, 5]],\n",
        "                [[6, 7, 8],\n",
        "                 [9, 10, 11]]])\n",
        "print(threeD_np) \n",
        "threeD_T = torch.FloatTensor(threeD_np)\n",
        "print(threeD_T)\n",
        "-->"
      ]
    },
    {
      "cell_type": "code",
      "metadata": {
        "id": "oNaVN2OjLCi5",
        "colab_type": "code",
        "colab": {
          "base_uri": "https://localhost:8080/",
          "height": 102
        },
        "outputId": "9f064bd0-3ad9-42a7-fde2-e894063f9f62"
      },
      "source": [
        "threeD_np  = np.array([[[0, 1, 2],\n",
        "                  [3, 4, 5]],\n",
        "                [[6, 7, 8],\n",
        "                 [9, 10, 11]]])\n",
        "print(threeD_np) "
      ],
      "execution_count": 89,
      "outputs": [
        {
          "output_type": "stream",
          "text": [
            "[[[ 0  1  2]\n",
            "  [ 3  4  5]]\n",
            "\n",
            " [[ 6  7  8]\n",
            "  [ 9 10 11]]]\n"
          ],
          "name": "stdout"
        }
      ]
    },
    {
      "cell_type": "code",
      "metadata": {
        "id": "D2DwPryqLDCP",
        "colab_type": "code",
        "colab": {
          "base_uri": "https://localhost:8080/",
          "height": 102
        },
        "outputId": "4ac62d55-4be6-4d57-f307-acfc1b463f75"
      },
      "source": [
        "threeD_T = torch.FloatTensor(threeD_np)\n",
        "print(threeD_T)"
      ],
      "execution_count": 88,
      "outputs": [
        {
          "output_type": "stream",
          "text": [
            "tensor([[[ 0.,  1.,  2.],\n",
            "         [ 3.,  4.,  5.]],\n",
            "\n",
            "        [[ 6.,  7.,  8.],\n",
            "         [ 9., 10., 11.]]])\n"
          ],
          "name": "stdout"
        }
      ]
    },
    {
      "cell_type": "code",
      "metadata": {
        "id": "l2qfetUTLFeo",
        "colab_type": "code",
        "colab": {
          "base_uri": "https://localhost:8080/",
          "height": 153
        },
        "outputId": "679b4b82-839e-4215-d3be-ff82ef8cc93f"
      },
      "source": [
        "print(threeD_T.view(4,3))\n",
        "print(threeD_T.view(-1,3)) # 앞에는 모르겠고 2D 형태로 열은 3개로 만들래\n"
      ],
      "execution_count": 91,
      "outputs": [
        {
          "output_type": "stream",
          "text": [
            "tensor([[ 0.,  1.,  2.],\n",
            "        [ 3.,  4.,  5.],\n",
            "        [ 6.,  7.,  8.],\n",
            "        [ 9., 10., 11.]])\n",
            "tensor([[ 0.,  1.,  2.],\n",
            "        [ 3.,  4.,  5.],\n",
            "        [ 6.,  7.,  8.],\n",
            "        [ 9., 10., 11.]])\n"
          ],
          "name": "stdout"
        }
      ]
    },
    {
      "cell_type": "markdown",
      "metadata": {
        "id": "H6IHJQO687JL",
        "colab_type": "text"
      },
      "source": [
        "# *3. Deal with Tensor*"
      ]
    },
    {
      "cell_type": "markdown",
      "metadata": {
        "id": "2z07kLQPH1BJ",
        "colab_type": "text"
      },
      "source": [
        "### 3.1 Indexing and slicing"
      ]
    },
    {
      "cell_type": "code",
      "metadata": {
        "jupyter": {
          "outputs_hidden": false
        },
        "id": "fiDCKHxJ87JY",
        "colab_type": "code",
        "colab": {}
      },
      "source": [
        "tensor_sample = torch.tensor([20, 1, 2, 3, 4])"
      ],
      "execution_count": 0,
      "outputs": []
    },
    {
      "cell_type": "markdown",
      "metadata": {
        "id": "jBd0yPsgDee0",
        "colab_type": "text"
      },
      "source": [
        "첫번째 sample을 바꾼다고 한다면,"
      ]
    },
    {
      "cell_type": "code",
      "metadata": {
        "jupyter": {
          "outputs_hidden": false
        },
        "id": "wjOVPhVy87Jc",
        "colab_type": "code",
        "outputId": "0d23e777-ead5-418f-a116-11d3a464fde4",
        "colab": {
          "base_uri": "https://localhost:8080/",
          "height": 51
        }
      },
      "source": [
        "print(tensor_sample)\n",
        "tensor_sample[0] = 100\n",
        "print(tensor_sample)"
      ],
      "execution_count": 7,
      "outputs": [
        {
          "output_type": "stream",
          "text": [
            "tensor([20,  1,  2,  3,  4])\n",
            "tensor([100,   1,   2,   3,   4])\n"
          ],
          "name": "stdout"
        }
      ]
    },
    {
      "cell_type": "markdown",
      "metadata": {
        "id": "imdv2x5FEKDy",
        "colab_type": "text"
      },
      "source": [
        "일부분만 바꿀 수 도있다."
      ]
    },
    {
      "cell_type": "code",
      "metadata": {
        "jupyter": {
          "outputs_hidden": false
        },
        "id": "NWilNsPz87J7",
        "colab_type": "code",
        "outputId": "5bbc0d55-63e0-4596-de76-d5e27f6351d7",
        "colab": {
          "base_uri": "https://localhost:8080/",
          "height": 51
        }
      },
      "source": [
        "print(tensor_sample)\n",
        "tensor_sample[[1, 3]] = 100000\n",
        "print(tensor_sample)"
      ],
      "execution_count": 8,
      "outputs": [
        {
          "output_type": "stream",
          "text": [
            "tensor([100,   1,   2,   3,   4])\n",
            "tensor([   100, 100000,      2, 100000,      4])\n"
          ],
          "name": "stdout"
        }
      ]
    },
    {
      "cell_type": "markdown",
      "metadata": {
        "id": "6R8EeMulGr1n",
        "colab_type": "text"
      },
      "source": [
        "### 3.2 Concatenate"
      ]
    },
    {
      "cell_type": "code",
      "metadata": {
        "id": "kPmzWzXFHZGS",
        "colab_type": "code",
        "colab": {}
      },
      "source": [
        "x = torch.FloatTensor([[1, 2], [3, 4]])\n",
        "y = torch.FloatTensor([[5, 6], [7, 8]])"
      ],
      "execution_count": 0,
      "outputs": []
    },
    {
      "cell_type": "code",
      "metadata": {
        "id": "BNM5Yn7sIHE0",
        "colab_type": "code",
        "colab": {
          "base_uri": "https://localhost:8080/",
          "height": 34
        },
        "outputId": "5a1bb9df-a1ee-46bd-c567-51e06618c334"
      },
      "source": [
        "print(x,y)"
      ],
      "execution_count": 15,
      "outputs": [
        {
          "output_type": "stream",
          "text": [
            "tensor([1., 4.]) tensor([2., 5.])\n"
          ],
          "name": "stdout"
        }
      ]
    },
    {
      "cell_type": "code",
      "metadata": {
        "id": "8xUE6E6rHbgf",
        "colab_type": "code",
        "colab": {
          "base_uri": "https://localhost:8080/",
          "height": 119
        },
        "outputId": "80abfb5a-6a15-4e82-b583-ec82ecd0a503"
      },
      "source": [
        "print(torch.cat([x, y], dim=0))\n",
        "print(torch.cat([x, y], dim=1))"
      ],
      "execution_count": 10,
      "outputs": [
        {
          "output_type": "stream",
          "text": [
            "tensor([[1., 2.],\n",
            "        [3., 4.],\n",
            "        [5., 6.],\n",
            "        [7., 8.]])\n",
            "tensor([[1., 2., 5., 6.],\n",
            "        [3., 4., 7., 8.]])\n"
          ],
          "name": "stdout"
        }
      ]
    },
    {
      "cell_type": "markdown",
      "metadata": {
        "id": "eUgHQIhTHij_",
        "colab_type": "text"
      },
      "source": [
        "### 3.3 Stacking"
      ]
    },
    {
      "cell_type": "code",
      "metadata": {
        "id": "II5BhxLfHicS",
        "colab_type": "code",
        "colab": {}
      },
      "source": [
        "x = torch.FloatTensor([1, 4])\n",
        "y = torch.FloatTensor([2, 5])\n",
        "z = torch.FloatTensor([3, 6])"
      ],
      "execution_count": 0,
      "outputs": []
    },
    {
      "cell_type": "code",
      "metadata": {
        "id": "KwAzNm_mH_hi",
        "colab_type": "code",
        "colab": {
          "base_uri": "https://localhost:8080/",
          "height": 34
        },
        "outputId": "31e0be4c-3e5b-4ef9-c626-ca4756be8027"
      },
      "source": [
        "print(x,y,z)"
      ],
      "execution_count": 14,
      "outputs": [
        {
          "output_type": "stream",
          "text": [
            "tensor([1., 4.]) tensor([2., 5.]) tensor([3., 6.])\n"
          ],
          "name": "stdout"
        }
      ]
    },
    {
      "cell_type": "code",
      "metadata": {
        "id": "ygGtbpiVHiW1",
        "colab_type": "code",
        "colab": {
          "base_uri": "https://localhost:8080/",
          "height": 102
        },
        "outputId": "ed9db410-be12-47de-f7dc-84c118d8b8d8"
      },
      "source": [
        "print(torch.stack([x, y, z]))\n",
        "print(torch.stack([x, y, z], dim=1))"
      ],
      "execution_count": 12,
      "outputs": [
        {
          "output_type": "stream",
          "text": [
            "tensor([[1., 4.],\n",
            "        [2., 5.],\n",
            "        [3., 6.]])\n",
            "tensor([[1., 2., 3.],\n",
            "        [4., 5., 6.]])\n"
          ],
          "name": "stdout"
        }
      ]
    },
    {
      "cell_type": "code",
      "metadata": {
        "id": "jbAGfFizHiP7",
        "colab_type": "code",
        "colab": {
          "base_uri": "https://localhost:8080/",
          "height": 68
        },
        "outputId": "15ca19c3-7406-4b02-e862-242106948a93"
      },
      "source": [
        "print(torch.cat([x.unsqueeze(0), y.unsqueeze(0), z.unsqueeze(0)], dim=0))"
      ],
      "execution_count": 13,
      "outputs": [
        {
          "output_type": "stream",
          "text": [
            "tensor([[1., 4.],\n",
            "        [2., 5.],\n",
            "        [3., 6.]])\n"
          ],
          "name": "stdout"
        }
      ]
    },
    {
      "cell_type": "markdown",
      "metadata": {
        "id": "8U8KaBQNHiJY",
        "colab_type": "text"
      },
      "source": [
        "## 3.4 Ones and Zeros\n",
        "CPU, GPU0~4 간의 Tensor를 연산하게되면(ex덧셈) 에러가 나게 된다.   \n",
        "이때 이를 통해서 새로 만들어내는것이 가능하다."
      ]
    },
    {
      "cell_type": "code",
      "metadata": {
        "id": "jEmp8wwUHhVw",
        "colab_type": "code",
        "colab": {
          "base_uri": "https://localhost:8080/",
          "height": 51
        },
        "outputId": "b4cb1afa-b84e-46d1-e7e3-23ea4e4c624c"
      },
      "source": [
        "x = torch.FloatTensor([[0, 1, 2], [2, 1, 0]])\n",
        "print(x)"
      ],
      "execution_count": 16,
      "outputs": [
        {
          "output_type": "stream",
          "text": [
            "tensor([[0., 1., 2.],\n",
            "        [2., 1., 0.]])\n"
          ],
          "name": "stdout"
        }
      ]
    },
    {
      "cell_type": "code",
      "metadata": {
        "id": "2Z1USQglHg6R",
        "colab_type": "code",
        "colab": {
          "base_uri": "https://localhost:8080/",
          "height": 85
        },
        "outputId": "9204d91c-3338-45ed-e4cd-1e4ae3dcc235"
      },
      "source": [
        "print(torch.ones_like(x))\n",
        "print(torch.zeros_like(x))"
      ],
      "execution_count": 17,
      "outputs": [
        {
          "output_type": "stream",
          "text": [
            "tensor([[1., 1., 1.],\n",
            "        [1., 1., 1.]])\n",
            "tensor([[0., 0., 0.],\n",
            "        [0., 0., 0.]])\n"
          ],
          "name": "stdout"
        }
      ]
    },
    {
      "cell_type": "markdown",
      "metadata": {
        "id": "7OX_HAci87LV",
        "colab_type": "text"
      },
      "source": [
        "# *4. Tensor Operations*\n",
        "* Addition(+)\n",
        "* subtraction(-)\n",
        "* Multiplication(*)\n",
        "* Dot Product($\\cdot$)"
      ]
    },
    {
      "cell_type": "code",
      "metadata": {
        "jupyter": {
          "outputs_hidden": false
        },
        "id": "HhLpCKca87LZ",
        "colab_type": "code",
        "colab": {}
      },
      "source": [
        "u = torch.tensor([1, 0])\n",
        "v = torch.tensor([0, 1])"
      ],
      "execution_count": 0,
      "outputs": []
    },
    {
      "cell_type": "code",
      "metadata": {
        "jupyter": {
          "outputs_hidden": false
        },
        "id": "bBPHg7sj87Lc",
        "colab_type": "code",
        "outputId": "ec975089-810b-4744-9650-cf99e5bb3f55",
        "colab": {
          "base_uri": "https://localhost:8080/",
          "height": 119
        }
      },
      "source": [
        "print('u + v = ',u + v)\n",
        "print('u - v = ',u-v)\n",
        "print('u + 1 = ',u + 1)\n",
        "print('2 * u = ',2 * u)\n",
        "print('u * v = ',u*v)\n",
        "print('u o v = ',torch.dot(u,v))"
      ],
      "execution_count": 20,
      "outputs": [
        {
          "output_type": "stream",
          "text": [
            "u + v =  tensor([1, 1])\n",
            "u - v =  tensor([ 1, -1])\n",
            "u + 1 =  tensor([2, 1])\n",
            "2 * u =  tensor([2, 0])\n",
            "u * v =  tensor([0, 0])\n",
            "u o v =  tensor(0)\n"
          ],
          "name": "stdout"
        }
      ]
    },
    {
      "cell_type": "code",
      "metadata": {
        "id": "uQ1Pq-3FJFII",
        "colab_type": "code",
        "colab": {
          "base_uri": "https://localhost:8080/",
          "height": 153
        },
        "outputId": "b6668f12-6172-4118-eb2d-8faa3b78fab5"
      },
      "source": [
        "x = torch.FloatTensor([[1, 2], [3, 4]])\n",
        "print(x.mul(2.))\n",
        "print(x)\n",
        "print(x.mul_(2.))\n",
        "print(x)"
      ],
      "execution_count": 27,
      "outputs": [
        {
          "output_type": "stream",
          "text": [
            "tensor([[2., 4.],\n",
            "        [6., 8.]])\n",
            "tensor([[1., 2.],\n",
            "        [3., 4.]])\n",
            "tensor([[2., 4.],\n",
            "        [6., 8.]])\n",
            "tensor([[2., 4.],\n",
            "        [6., 8.]])\n"
          ],
          "name": "stdout"
        }
      ]
    },
    {
      "cell_type": "markdown",
      "metadata": {
        "id": "WwX75EHbmKeb",
        "colab_type": "text"
      },
      "source": [
        "#### 4.1 matrix multiplication"
      ]
    },
    {
      "cell_type": "code",
      "metadata": {
        "id": "kXW6tbq-mIWX",
        "colab_type": "code",
        "outputId": "abe9528b-bcb3-4eea-d3e3-180a1662a11b",
        "colab": {
          "base_uri": "https://localhost:8080/",
          "height": 68
        }
      },
      "source": [
        "A = torch.tensor([[0, 1, 1], [1, 0, 1]])\n",
        "B = torch.tensor([[1, 1], [1, 1], [-1, 1]])\n",
        "\n",
        "A_times_B = torch.mm(A,B)\n",
        "print(\"The result of A * B\\n\", A_times_B)"
      ],
      "execution_count": 0,
      "outputs": [
        {
          "output_type": "stream",
          "text": [
            "The result of A * B\n",
            " tensor([[0, 2],\n",
            "        [0, 2]])\n"
          ],
          "name": "stdout"
        }
      ]
    },
    {
      "cell_type": "markdown",
      "metadata": {
        "id": "we7iZW-v87KI",
        "colab_type": "text"
      },
      "source": [
        "# *5. Tensor Operations 2*"
      ]
    },
    {
      "cell_type": "markdown",
      "metadata": {
        "id": "pxYvQG66-dQH",
        "colab_type": "text"
      },
      "source": [
        "$$ T=\\begin{bmatrix}\n",
        "0 & 1 & 2\\\\\n",
        "3 & 4 & 5\\\\\n",
        "6 & 7 & 8\n",
        "\\end{bmatrix}\n",
        "$$"
      ]
    },
    {
      "cell_type": "code",
      "metadata": {
        "id": "UCcSwkGd87KM",
        "colab_type": "code",
        "colab": {
          "base_uri": "https://localhost:8080/",
          "height": 68
        },
        "outputId": "07ab80bb-eae1-4d24-a139-daadd264c04c"
      },
      "source": [
        "T = torch.tensor([[0., 1., 2.], [3., 4., 5.], [6., 7., 8.]])\n",
        "print(T)"
      ],
      "execution_count": 30,
      "outputs": [
        {
          "output_type": "stream",
          "text": [
            "tensor([[0., 1., 2.],\n",
            "        [3., 4., 5.],\n",
            "        [6., 7., 8.]])\n"
          ],
          "name": "stdout"
        }
      ]
    },
    {
      "cell_type": "markdown",
      "metadata": {
        "id": "pRGQadt-8_mX",
        "colab_type": "text"
      },
      "source": [
        "#### 3.1 Mean"
      ]
    },
    {
      "cell_type": "code",
      "metadata": {
        "jupyter": {
          "outputs_hidden": false
        },
        "id": "6Gvq1Fl087KR",
        "colab_type": "code",
        "outputId": "a4fff153-cecb-416a-f82d-26688d3f5dc5",
        "colab": {
          "base_uri": "https://localhost:8080/",
          "height": 34
        }
      },
      "source": [
        "print(T.mean())"
      ],
      "execution_count": 32,
      "outputs": [
        {
          "output_type": "stream",
          "text": [
            "tensor(4.)\n"
          ],
          "name": "stdout"
        }
      ]
    },
    {
      "cell_type": "code",
      "metadata": {
        "id": "vBLegvsj8pYp",
        "colab_type": "code",
        "colab": {
          "base_uri": "https://localhost:8080/",
          "height": 85
        },
        "outputId": "4ab88304-9848-4c44-af5e-4b156deeda31"
      },
      "source": [
        "print(T.mean()) # 4개 elec\n",
        "print(T.mean(dim=0)) # (3x3) => (1x3) dimention = 0의 평균 즉, 세로의 평균 \n",
        "print(T.mean(dim=1)) # (3x3) => (3x1) dimention = 1의 평균 즉, 가로의 평균\n",
        "print(T.mean(dim=-1))# (3x3)에서 가장 마지막 dimention이 1이므로 위와 동일"
      ],
      "execution_count": 34,
      "outputs": [
        {
          "output_type": "stream",
          "text": [
            "tensor(4.)\n",
            "tensor([3., 4., 5.])\n",
            "tensor([1., 4., 7.])\n",
            "tensor([1., 4., 7.])\n"
          ],
          "name": "stdout"
        }
      ]
    },
    {
      "cell_type": "markdown",
      "metadata": {
        "id": "tdGJw_zk9Cup",
        "colab_type": "text"
      },
      "source": [
        "#### 3.2 Sum"
      ]
    },
    {
      "cell_type": "code",
      "metadata": {
        "id": "FBT7rK60_QSI",
        "colab_type": "code",
        "colab": {
          "base_uri": "https://localhost:8080/",
          "height": 34
        },
        "outputId": "411b8d59-afb4-42e9-b46c-12a0ef45e4df"
      },
      "source": [
        "print(T.sum())"
      ],
      "execution_count": 35,
      "outputs": [
        {
          "output_type": "stream",
          "text": [
            "tensor(36.)\n"
          ],
          "name": "stdout"
        }
      ]
    },
    {
      "cell_type": "code",
      "metadata": {
        "id": "3bqc56KW9Jn9",
        "colab_type": "code",
        "colab": {
          "base_uri": "https://localhost:8080/",
          "height": 85
        },
        "outputId": "f287f041-3535-482a-8a71-efdaed6e14be"
      },
      "source": [
        "print(T.sum())\n",
        "print(T.sum(dim=0))\n",
        "print(T.sum(dim=1))\n",
        "print(T.sum(dim=-1))"
      ],
      "execution_count": 37,
      "outputs": [
        {
          "output_type": "stream",
          "text": [
            "tensor(36.)\n",
            "tensor([ 9., 12., 15.])\n",
            "tensor([ 3., 12., 21.])\n",
            "tensor([ 3., 12., 21.])\n"
          ],
          "name": "stdout"
        }
      ]
    },
    {
      "cell_type": "markdown",
      "metadata": {
        "id": "ALe8dHFZ9ROO",
        "colab_type": "text"
      },
      "source": [
        "#### 3.3 Max and Argmax"
      ]
    },
    {
      "cell_type": "code",
      "metadata": {
        "id": "A89I-F82Beqx",
        "colab_type": "code",
        "colab": {
          "base_uri": "https://localhost:8080/",
          "height": 68
        },
        "outputId": "8f6b7280-2da2-42d7-a710-c8620bd4ab95"
      },
      "source": [
        "print(T)"
      ],
      "execution_count": 41,
      "outputs": [
        {
          "output_type": "stream",
          "text": [
            "tensor([[0., 1., 2.],\n",
            "        [3., 4., 5.],\n",
            "        [6., 7., 8.]])\n"
          ],
          "name": "stdout"
        }
      ]
    },
    {
      "cell_type": "code",
      "metadata": {
        "id": "97OVbdhN9VN2",
        "colab_type": "code",
        "colab": {
          "base_uri": "https://localhost:8080/",
          "height": 34
        },
        "outputId": "61961f6a-4807-4c7c-f438-09794adf93e2"
      },
      "source": [
        "print(T.max())"
      ],
      "execution_count": 38,
      "outputs": [
        {
          "output_type": "stream",
          "text": [
            "tensor(8.)\n"
          ],
          "name": "stdout"
        }
      ]
    },
    {
      "cell_type": "code",
      "metadata": {
        "id": "HJtphIS99Ynj",
        "colab_type": "code",
        "colab": {
          "base_uri": "https://localhost:8080/",
          "height": 187
        },
        "outputId": "8a2c4faa-dc22-4117-e180-d5c2773d3435"
      },
      "source": [
        "print(T.max(dim=0)) # 즉, (1,0)에 위차한 것이 max값이다. 이때는 Index값을 같이 return해준다.\n",
        "print('-')\n",
        "print(T.max(dim=1)) # 즉, (1,0)에 위차한 것이 max값이다.\n",
        "print('-')\n",
        "print(T.max(dim=0)[0]) # value값만 return해줘.\n",
        "print(T.max(dim=0)[1]) # Argmax 값인 즉, Index값만 return해줘.\n"
      ],
      "execution_count": 46,
      "outputs": [
        {
          "output_type": "stream",
          "text": [
            "torch.return_types.max(\n",
            "values=tensor([6., 7., 8.]),\n",
            "indices=tensor([2, 2, 2]))\n",
            "-\n",
            "torch.return_types.max(\n",
            "values=tensor([2., 5., 8.]),\n",
            "indices=tensor([2, 2, 2]))\n",
            "-\n",
            "tensor([6., 7., 8.])\n",
            "tensor([2, 2, 2])\n"
          ],
          "name": "stdout"
        }
      ]
    },
    {
      "cell_type": "markdown",
      "metadata": {
        "id": "F1T2ui3w87K9",
        "colab_type": "text"
      },
      "source": [
        "# *6. linspace() and Draw the graph*"
      ]
    },
    {
      "cell_type": "code",
      "metadata": {
        "id": "aTwTOTq0KPFF",
        "colab_type": "code",
        "colab": {}
      },
      "source": [
        "def plotVec(vectors):\n",
        "  ax1 = plt.axes()\n",
        "  for vec in vectors:\n",
        "    ax.arrow(0, 0, *vec[\"vector\"], head_width = 0.05,color = vec[\"color\"], head_length = 0.1)\n",
        "    plt.text(*(vec[\"vector\"] + 0.1), vec[\"name\"])\n",
        "  plt.ylim(-2,2)\n",
        "  plt.xlim(-2,2)"
      ],
      "execution_count": 0,
      "outputs": []
    },
    {
      "cell_type": "markdown",
      "metadata": {
        "id": "hMc-_Ys4KRO8",
        "colab_type": "text"
      },
      "source": [
        "steps parameter"
      ]
    },
    {
      "cell_type": "code",
      "metadata": {
        "jupyter": {
          "outputs_hidden": false
        },
        "id": "EBXngSYH87LA",
        "colab_type": "code",
        "outputId": "7400dd3b-06e4-4d6a-e019-c1e8afdd5287",
        "colab": {
          "base_uri": "https://localhost:8080/",
          "height": 68
        }
      },
      "source": [
        "# First try on using linspace to create tensor\n",
        "len_5_tensor = torch.linspace(-2, 2, steps = 5)\n",
        "len_9_tensor = torch.linspace(-2, 2, steps = 9)\n",
        "print (len_5_tensor)\n",
        "print (len_9_tensor)"
      ],
      "execution_count": 33,
      "outputs": [
        {
          "output_type": "stream",
          "text": [
            "tensor([-2., -1.,  0.,  1.,  2.])\n",
            "tensor([-2.0000, -1.5000, -1.0000, -0.5000,  0.0000,  0.5000,  1.0000,  1.5000,\n",
            "         2.0000])\n"
          ],
          "name": "stdout"
        }
      ]
    },
    {
      "cell_type": "code",
      "metadata": {
        "jupyter": {
          "outputs_hidden": false
        },
        "id": "SE5eu8e_87LI",
        "colab_type": "code",
        "colab": {}
      },
      "source": [
        "# Construct the tensor within 0 to 360 degree\n",
        "pi_tensor = torch.linspace(0, 2*np.pi, 100)\n",
        "sin_result = torch.sin(pi_tensor)"
      ],
      "execution_count": 0,
      "outputs": []
    },
    {
      "cell_type": "code",
      "metadata": {
        "jupyter": {
          "outputs_hidden": false
        },
        "id": "1ZWG1UTv87LL",
        "colab_type": "code",
        "outputId": "a4627e66-1596-4c81-c14d-8c52b3256b84",
        "colab": {
          "base_uri": "https://localhost:8080/",
          "height": 282
        }
      },
      "source": [
        "plt.plot(pi_tensor.numpy(), sin_result.numpy())"
      ],
      "execution_count": 35,
      "outputs": [
        {
          "output_type": "execute_result",
          "data": {
            "text/plain": [
              "[<matplotlib.lines.Line2D at 0x7f73e127e588>]"
            ]
          },
          "metadata": {
            "tags": []
          },
          "execution_count": 35
        },
        {
          "output_type": "display_data",
          "data": {
            "image/png": "[encoded data removed]",
            "text/plain": [
              "<Figure size 432x288 with 1 Axes>"
            ]
          },
          "metadata": {
            "tags": []
          }
        }
      ]
    }
  ]
}