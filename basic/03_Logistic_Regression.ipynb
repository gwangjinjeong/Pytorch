{
  "nbformat": 4,
  "nbformat_minor": 0,
  "metadata": {
    "colab": {
      "name": "03.Logistic Regression.ipynb",
      "provenance": [],
      "collapsed_sections": [],
      "toc_visible": true,
      "include_colab_link": true
    },
    "kernelspec": {
      "name": "python3",
      "display_name": "Python 3"
    }
  },
  "cells": [
    {
      "cell_type": "markdown",
      "metadata": {
        "id": "view-in-github",
        "colab_type": "text"
      },
      "source": [
        "<a href=\"https://colab.research.google.com/github/gwangjinjeong/Pytorch/blob/master/basic/03_Logistic_Regression.ipynb\" target=\"_parent\"><img src=\"https://colab.research.google.com/assets/colab-badge.svg\" alt=\"Open In Colab\"/></a>"
      ]
    },
    {
      "cell_type": "markdown",
      "metadata": {
        "id": "sEdpYPAmWy_G",
        "colab_type": "text"
      },
      "source": [
        "# *0.* Preparation"
      ]
    },
    {
      "cell_type": "code",
      "metadata": {
        "id": "UEk8aGosWtIq",
        "colab_type": "code",
        "colab": {
          "base_uri": "https://localhost:8080/",
          "height": 35
        },
        "outputId": "bf5d9cfa-62d1-4c48-e9b1-aa44ccb33244"
      },
      "source": [
        "import torch\n",
        "import torch.nn as nn\n",
        "import torch.nn.functional as F\n",
        "import torch.optim as optim\n",
        "torch.manual_seed(1)"
      ],
      "execution_count": 29,
      "outputs": [
        {
          "output_type": "execute_result",
          "data": {
            "text/plain": [
              "<torch._C.Generator at 0x7fab4d803970>"
            ]
          },
          "metadata": {
            "tags": []
          },
          "execution_count": 29
        }
      ]
    },
    {
      "cell_type": "markdown",
      "metadata": {
        "id": "RwtauUVwMxVo",
        "colab_type": "text"
      },
      "source": [
        "# *1.* Logistic Regression"
      ]
    },
    {
      "cell_type": "markdown",
      "metadata": {
        "id": "FComlEJpM0LZ",
        "colab_type": "text"
      },
      "source": [
        "* Hypothesis   \n",
        "$H(x) = \\frac{1}{1+e^-W^TX} $\n",
        "\n",
        "* Cost   \n",
        "$ cost(W) = -\\frac{1}{m} \\sum y \\log\\left(H(x)\\right) + (1-y) \\left( \\log(1-H(x) \\right) $   \n",
        "즉, H(x)가 실제 정답 y와 근사라면 cost는 0에 가깝고   \n",
        "같지 않을수록 cost는 높아질것이다."
      ]
    },
    {
      "cell_type": "markdown",
      "metadata": {
        "id": "-kGTnN7_N5-Y",
        "colab_type": "text"
      },
      "source": [
        "## 1.1 Make the Training Data"
      ]
    },
    {
      "cell_type": "code",
      "metadata": {
        "id": "sqNrORckN7D5",
        "colab_type": "code",
        "colab": {}
      },
      "source": [
        "x_data = [[1, 2], [2, 3], [3, 1], [4, 3], [5, 3], [6, 2]] # 6,2로 이루어진 data\n",
        "y_data = [[0], [0], [0], [1], [1], [1]]"
      ],
      "execution_count": 0,
      "outputs": []
    },
    {
      "cell_type": "code",
      "metadata": {
        "id": "ikgc50jdOUh_",
        "colab_type": "code",
        "colab": {}
      },
      "source": [
        "x_train = torch.FloatTensor(x_data)\n",
        "y_train = torch.FloatTensor(y_data)"
      ],
      "execution_count": 0,
      "outputs": []
    },
    {
      "cell_type": "code",
      "metadata": {
        "id": "G9DokxqgObwg",
        "colab_type": "code",
        "colab": {
          "base_uri": "https://localhost:8080/",
          "height": 35
        },
        "outputId": "6c2dcb4d-b9fa-417b-913e-aec51bca8118"
      },
      "source": [
        "print('e^1 equals: ', torch.exp(torch.FloatTensor([1])))"
      ],
      "execution_count": 6,
      "outputs": [
        {
          "output_type": "stream",
          "text": [
            "e^1 equals:  tensor([2.7183])\n"
          ],
          "name": "stdout"
        }
      ]
    },
    {
      "cell_type": "markdown",
      "metadata": {
        "id": "M-JN3bNyOqCg",
        "colab_type": "text"
      },
      "source": [
        "$H(x) = \\frac{1}{1+e^{-W^TX}} $ => $ \\frac{1}{1+e^{-X\\bullet W}}$ => $ \\frac{1}{1+e^{-X\\bullet W+b}}$ \n"
      ]
    },
    {
      "cell_type": "code",
      "metadata": {
        "id": "v_spnM8QOmgF",
        "colab_type": "code",
        "colab": {}
      },
      "source": [
        "W = torch.zeros((2,1), requires_grad=True)\n",
        "b = torch.zeros(1, requires_grad = True)"
      ],
      "execution_count": 0,
      "outputs": []
    },
    {
      "cell_type": "markdown",
      "metadata": {
        "id": "ZuoMDLWqPosj",
        "colab_type": "text"
      },
      "source": [
        "```python\n",
        "x_train.matmul(W) # 의 의미는 X*W를 의미한다.\n",
        "```\n"
      ]
    },
    {
      "cell_type": "code",
      "metadata": {
        "id": "r3fe1_ugPVGg",
        "colab_type": "code",
        "colab": {}
      },
      "source": [
        "hypothesis = 1 / (1 + torch.exp(-(x_train.matmul(W) + b)))"
      ],
      "execution_count": 0,
      "outputs": []
    },
    {
      "cell_type": "code",
      "metadata": {
        "id": "tCpxvTloPcAl",
        "colab_type": "code",
        "colab": {
          "base_uri": "https://localhost:8080/",
          "height": 140
        },
        "outputId": "3c71f8d8-3f70-4278-d4e6-96b657df24d1"
      },
      "source": [
        "print(hypothesis)\n",
        "print(hypothesis.shape)"
      ],
      "execution_count": 10,
      "outputs": [
        {
          "output_type": "stream",
          "text": [
            "tensor([[0.5000],\n",
            "        [0.5000],\n",
            "        [0.5000],\n",
            "        [0.5000],\n",
            "        [0.5000],\n",
            "        [0.5000]], grad_fn=<MulBackward0>)\n",
            "torch.Size([6, 1])\n"
          ],
          "name": "stdout"
        }
      ]
    },
    {
      "cell_type": "markdown",
      "metadata": {
        "id": "3F1rgt2OPeda",
        "colab_type": "text"
      },
      "source": [
        "이것을 Torch에서는 `torch.sigmoid()`라는 function으로 지원한다."
      ]
    },
    {
      "cell_type": "code",
      "metadata": {
        "id": "20fawjP0P661",
        "colab_type": "code",
        "colab": {}
      },
      "source": [
        "hypothesis  = torch.sigmoid(x_train.matmul(W) + b)"
      ],
      "execution_count": 0,
      "outputs": []
    },
    {
      "cell_type": "code",
      "metadata": {
        "id": "KV-E8hkfQB-J",
        "colab_type": "code",
        "colab": {
          "base_uri": "https://localhost:8080/",
          "height": 140
        },
        "outputId": "670a3afa-c825-4074-fd31-454bb2e6a0b1"
      },
      "source": [
        "print(hypothesis)\n",
        "print(hypothesis.shape)"
      ],
      "execution_count": 12,
      "outputs": [
        {
          "output_type": "stream",
          "text": [
            "tensor([[0.5000],\n",
            "        [0.5000],\n",
            "        [0.5000],\n",
            "        [0.5000],\n",
            "        [0.5000],\n",
            "        [0.5000]], grad_fn=<SigmoidBackward>)\n",
            "torch.Size([6, 1])\n"
          ],
          "name": "stdout"
        }
      ]
    },
    {
      "cell_type": "markdown",
      "metadata": {
        "id": "HOmj6o-_QEoV",
        "colab_type": "text"
      },
      "source": [
        "## 1.2 Cost function"
      ]
    },
    {
      "cell_type": "code",
      "metadata": {
        "id": "VcUlCqb_QGPF",
        "colab_type": "code",
        "colab": {
          "base_uri": "https://localhost:8080/",
          "height": 35
        },
        "outputId": "2bc35afb-d7fb-4949-e7fa-84148f3b94a0"
      },
      "source": [
        "losses = -(y_train[0] * torch.log(hypothesis[0]) +\n",
        "  (1 - y_train[0]) * torch.log(1 - hypothesis[0]))\n",
        "# log p(X=0;w) = 1 - logP(X=1;W)\n",
        "print(losses)"
      ],
      "execution_count": 13,
      "outputs": [
        {
          "output_type": "stream",
          "text": [
            "tensor([0.6931], grad_fn=<NegBackward>)\n"
          ],
          "name": "stdout"
        }
      ]
    },
    {
      "cell_type": "code",
      "metadata": {
        "id": "NMifwGY2Qp8U",
        "colab_type": "code",
        "colab": {
          "base_uri": "https://localhost:8080/",
          "height": 35
        },
        "outputId": "a259e548-0246-4489-a532-d0ee22df59f4"
      },
      "source": [
        "cost = losses.mean() # 점화식형태의 다 더하고 갯수만큼 나누는것이기 때문에 평균.\n",
        "print(cost)"
      ],
      "execution_count": 14,
      "outputs": [
        {
          "output_type": "stream",
          "text": [
            "tensor(0.6931, grad_fn=<MeanBackward0>)\n"
          ],
          "name": "stdout"
        }
      ]
    },
    {
      "cell_type": "code",
      "metadata": {
        "id": "3NYqbhW6Qr-p",
        "colab_type": "code",
        "colab": {
          "base_uri": "https://localhost:8080/",
          "height": 35
        },
        "outputId": "26e332f7-f973-40cd-a672-125829bfafc5"
      },
      "source": [
        "#이것은 위와같다.\n",
        "F.binary_cross_entropy(hypothesis, y_train)"
      ],
      "execution_count": 15,
      "outputs": [
        {
          "output_type": "execute_result",
          "data": {
            "text/plain": [
              "tensor(0.6931, grad_fn=<BinaryCrossEntropyBackward>)"
            ]
          },
          "metadata": {
            "tags": []
          },
          "execution_count": 15
        }
      ]
    },
    {
      "cell_type": "code",
      "metadata": {
        "id": "V4rWUmTaQ2Sk",
        "colab_type": "code",
        "colab": {
          "base_uri": "https://localhost:8080/",
          "height": 211
        },
        "outputId": "0c37c348-6423-41d7-e02c-7d2f4993411c"
      },
      "source": [
        "# 모델 초기화\n",
        "W = torch.zeros((2, 1), requires_grad=True)\n",
        "b = torch.zeros(1, requires_grad=True)\n",
        "# optimizer 설정\n",
        "optimizer = optim.SGD([W, b], lr=1)\n",
        "\n",
        "nb_epochs = 1000\n",
        "for epoch in range(nb_epochs + 1):\n",
        "\n",
        "    # Cost 계산\n",
        "    hypothesis = torch.sigmoid(x_train.matmul(W) + b) # or .mm or @\n",
        "    cost = -(y_train * torch.log(hypothesis) + \n",
        "             (1 - y_train) * torch.log(1 - hypothesis)).mean()\n",
        "\n",
        "    # cost로 H(x) 개선\n",
        "    optimizer.zero_grad()  # 기존에 grad를 구한것이 있으면 초기화를 하겠다. 이걸 안하면 기존 grad를 더하게 된다.\n",
        "    cost.backward()\n",
        "    optimizer.step()\n",
        "\n",
        "    # 100번마다 로그 출력\n",
        "    if epoch % 100 == 0:\n",
        "        print('Epoch {:4d}/{} Cost: {:.6f}'.format(\n",
        "            epoch, nb_epochs, cost.item()\n",
        "        ))"
      ],
      "execution_count": 30,
      "outputs": [
        {
          "output_type": "stream",
          "text": [
            "Epoch    0/1000 Cost: 0.693147\n",
            "Epoch  100/1000 Cost: 0.134722\n",
            "Epoch  200/1000 Cost: 0.080643\n",
            "Epoch  300/1000 Cost: 0.057900\n",
            "Epoch  400/1000 Cost: 0.045300\n",
            "Epoch  500/1000 Cost: 0.037261\n",
            "Epoch  600/1000 Cost: 0.031673\n",
            "Epoch  700/1000 Cost: 0.027556\n",
            "Epoch  800/1000 Cost: 0.024394\n",
            "Epoch  900/1000 Cost: 0.021888\n",
            "Epoch 1000/1000 Cost: 0.019852\n"
          ],
          "name": "stdout"
        }
      ]
    },
    {
      "cell_type": "markdown",
      "metadata": {
        "id": "yIiJb0OlR0MQ",
        "colab_type": "text"
      },
      "source": [
        "## 1.3 Evaluation"
      ]
    },
    {
      "cell_type": "code",
      "metadata": {
        "id": "PxttwC84R2Am",
        "colab_type": "code",
        "colab": {
          "base_uri": "https://localhost:8080/",
          "height": 105
        },
        "outputId": "cb203d41-e44f-4f2b-b4fa-f74bb4724c96"
      },
      "source": [
        "hypothesis = torch.sigmoid(x_train.matmul(W) + b)\n",
        "print(hypothesis[:5])"
      ],
      "execution_count": 21,
      "outputs": [
        {
          "output_type": "stream",
          "text": [
            "tensor([[2.7648e-04],\n",
            "        [3.1608e-02],\n",
            "        [3.8977e-02],\n",
            "        [9.5622e-01],\n",
            "        [9.9823e-01]], grad_fn=<SliceBackward>)\n"
          ],
          "name": "stdout"
        }
      ]
    },
    {
      "cell_type": "code",
      "metadata": {
        "id": "Kg-ScC_JR76e",
        "colab_type": "code",
        "colab": {
          "base_uri": "https://localhost:8080/",
          "height": 105
        },
        "outputId": "ced04bfc-6657-4a73-8d00-0ebe6260b6ad"
      },
      "source": [
        "prediction = hypothesis >= torch.FloatTensor([0.5]) # 0.5이상이 되면 1과 0으로 되게 만듬 => byteTensor\n",
        "print(prediction[:5])"
      ],
      "execution_count": 22,
      "outputs": [
        {
          "output_type": "stream",
          "text": [
            "tensor([[False],\n",
            "        [False],\n",
            "        [False],\n",
            "        [ True],\n",
            "        [ True]])\n"
          ],
          "name": "stdout"
        }
      ]
    },
    {
      "cell_type": "code",
      "metadata": {
        "id": "sbw8VRUUScJ7",
        "colab_type": "code",
        "colab": {
          "base_uri": "https://localhost:8080/",
          "height": 193
        },
        "outputId": "0efbf19c-388c-4629-ab12-7e216fb79a08"
      },
      "source": [
        "print(prediction[:5])\n",
        "print(y_train[:5])"
      ],
      "execution_count": 23,
      "outputs": [
        {
          "output_type": "stream",
          "text": [
            "tensor([[False],\n",
            "        [False],\n",
            "        [False],\n",
            "        [ True],\n",
            "        [ True]])\n",
            "tensor([[0.],\n",
            "        [0.],\n",
            "        [0.],\n",
            "        [1.],\n",
            "        [1.]])\n"
          ],
          "name": "stdout"
        }
      ]
    },
    {
      "cell_type": "code",
      "metadata": {
        "id": "pvyvOpsVTMbr",
        "colab_type": "code",
        "colab": {
          "base_uri": "https://localhost:8080/",
          "height": 123
        },
        "outputId": "5cb1c24a-fefd-4f85-f2ea-4624fc8ceae4"
      },
      "source": [
        "correct_prediction = prediction.float() == y_train\n",
        "print(correct_prediction)"
      ],
      "execution_count": 24,
      "outputs": [
        {
          "output_type": "stream",
          "text": [
            "tensor([[True],\n",
            "        [True],\n",
            "        [True],\n",
            "        [True],\n",
            "        [True],\n",
            "        [True]])\n"
          ],
          "name": "stdout"
        }
      ]
    },
    {
      "cell_type": "markdown",
      "metadata": {
        "id": "OpFwcimdTWzt",
        "colab_type": "text"
      },
      "source": [
        "## 1.4 Higher Implementation"
      ]
    },
    {
      "cell_type": "code",
      "metadata": {
        "id": "gueRu6saYK1P",
        "colab_type": "code",
        "colab": {}
      },
      "source": [
        "x_data = [[1, 2], [2, 3], [3, 1], [4, 3], [5, 3], [6, 2]] # 6,2로 이루어진 data\n",
        "y_data = [[0], [0], [0], [1], [1], [1]]"
      ],
      "execution_count": 0,
      "outputs": []
    },
    {
      "cell_type": "code",
      "metadata": {
        "id": "aA53iWt_Yf6h",
        "colab_type": "code",
        "colab": {}
      },
      "source": [
        "x_train = torch.FloatTensor(x_data)\n",
        "y_train = torch.FloatTensor(y_data)"
      ],
      "execution_count": 0,
      "outputs": []
    },
    {
      "cell_type": "code",
      "metadata": {
        "id": "gnwaRzSUYEjH",
        "colab_type": "code",
        "colab": {}
      },
      "source": [
        "class BinaryClassifier(nn.Module): #추상클래스를 상속받아서 나만의 class를 만든다.\n",
        "    def __init__(self):\n",
        "        super().__init__()\n",
        "        self.linear = nn.Linear(2, 1)\n",
        "        self.sigmoid = nn.Sigmoid()\n",
        "\n",
        "    def forward(self, x):\n",
        "        return self.sigmoid(self.linear(x))"
      ],
      "execution_count": 0,
      "outputs": []
    },
    {
      "cell_type": "code",
      "metadata": {
        "id": "4tP83dy2T2H4",
        "colab_type": "code",
        "colab": {}
      },
      "source": [
        "model = BinaryClassifier()"
      ],
      "execution_count": 0,
      "outputs": []
    },
    {
      "cell_type": "code",
      "metadata": {
        "id": "xLeE9We2UCOJ",
        "colab_type": "code",
        "colab": {
          "base_uri": "https://localhost:8080/",
          "height": 211
        },
        "outputId": "e45900a7-70c4-4f5b-c283-b955f7a171d5"
      },
      "source": [
        "# optimizer 설정\n",
        "optimizer = optim.SGD(model.parameters(), lr=1) # 처음 선언한 모델 내의 linear, sigmoid 변수를 가지고 올꺼야.\n",
        "\n",
        "nb_epochs = 100\n",
        "for epoch in range(nb_epochs + 1):\n",
        "\n",
        "    # H(x) 계산\n",
        "    hypothesis = model(x_train)\n",
        "\n",
        "    # cost 계산\n",
        "    cost = F.binary_cross_entropy(hypothesis, y_train)\n",
        "\n",
        "    # cost로 H(x) 개선\n",
        "    optimizer.zero_grad()\n",
        "    cost.backward()\n",
        "    optimizer.step()\n",
        "    \n",
        "    # 20번마다 로그 출력\n",
        "    if epoch % 10 == 0:\n",
        "        prediction = hypothesis >= torch.FloatTensor([0.5])\n",
        "        correct_prediction = prediction.float() == y_train\n",
        "        accuracy = correct_prediction.sum().item() / len(correct_prediction)\n",
        "        print('Epoch {:4d}/{} Cost: {:.6f} Accuracy {:2.2f}%'.format(\n",
        "            epoch, nb_epochs, cost.item(), accuracy * 100,\n",
        "        ))\n"
      ],
      "execution_count": 68,
      "outputs": [
        {
          "output_type": "stream",
          "text": [
            "Epoch    0/100 Cost: 1.106729 Accuracy 50.00%\n",
            "Epoch   10/100 Cost: 1.712465 Accuracy 50.00%\n",
            "Epoch   20/100 Cost: 0.429914 Accuracy 83.33%\n",
            "Epoch   30/100 Cost: 0.366707 Accuracy 83.33%\n",
            "Epoch   40/100 Cost: 0.309610 Accuracy 83.33%\n",
            "Epoch   50/100 Cost: 0.259915 Accuracy 83.33%\n",
            "Epoch   60/100 Cost: 0.214979 Accuracy 100.00%\n",
            "Epoch   70/100 Cost: 0.177992 Accuracy 100.00%\n",
            "Epoch   80/100 Cost: 0.155141 Accuracy 100.00%\n",
            "Epoch   90/100 Cost: 0.142717 Accuracy 100.00%\n",
            "Epoch  100/100 Cost: 0.133101 Accuracy 100.00%\n"
          ],
          "name": "stdout"
        }
      ]
    }
  ]
}