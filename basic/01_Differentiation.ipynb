{
  "nbformat": 4,
  "nbformat_minor": 0,
  "metadata": {
    "kernelspec": {
      "name": "python3",
      "display_name": "Python 3"
    },
    "colab": {
      "name": "01_Differentiation.ipynb",
      "provenance": [],
      "toc_visible": true,
      "include_colab_link": true
    }
  },
  "cells": [
    {
      "cell_type": "markdown",
      "metadata": {
        "id": "view-in-github",
        "colab_type": "text"
      },
      "source": [
        "<a href=\"https://colab.research.google.com/github/gwangjinjeong/Pytorch/blob/master/basic/01_Differentiation.ipynb\" target=\"_parent\"><img src=\"https://colab.research.google.com/assets/colab-badge.svg\" alt=\"Open In Colab\"/></a>"
      ]
    },
    {
      "cell_type": "markdown",
      "metadata": {
        "id": "S-pOLpKooVJ1",
        "colab_type": "text"
      },
      "source": [
        "#*0. Preparation*"
      ]
    },
    {
      "cell_type": "code",
      "metadata": {
        "id": "l2r9ObDjoVJ4",
        "colab_type": "code",
        "colab": {}
      },
      "source": [
        "import torch \n",
        "import matplotlib.pylab as plt"
      ],
      "execution_count": 0,
      "outputs": []
    },
    {
      "cell_type": "markdown",
      "metadata": {
        "id": "N2LRGyicoVKA",
        "colab_type": "text"
      },
      "source": [
        "#*1. Derivatives*"
      ]
    },
    {
      "cell_type": "markdown",
      "metadata": {
        "id": "wNoZkbULo7Gg",
        "colab_type": "text"
      },
      "source": [
        "***Tensor***   \n",
        "패키지의 중심에는 `torch.Tensor` 클래스가 있습니다. 만약 `.requires_grad` 속성을 **True** 로 설정하면, 그 **tensor**에서 이뤄진 모든 연산들을 추적(track)하기 시작합니다.\n",
        "   \n",
        "계산이 완료된 후 `.backward()` 를 호출하여 모든 변화도(gradient)를 자동으로 계산할 수 있습니다. 이 Tensor의 변화도는 .grad 속성에 누적됩니다."
      ]
    },
    {
      "cell_type": "markdown",
      "metadata": {
        "id": "K99zoL39oVKB",
        "colab_type": "text"
      },
      "source": [
        ".requires_grad_( ... ) 는 기존 Tensor의 requires_grad 값을 바꿔치기 (in-place)하여 변경합니다. 입력값이 지정되지 않으면 기본값은 False 입니다.   \n",
        "$y=x^{2}+2x+1$ 를 계산해본다면.."
      ]
    },
    {
      "cell_type": "code",
      "metadata": {
        "id": "_Ab8bd9BoVKC",
        "colab_type": "code",
        "outputId": "04b5d4a3-e3c4-4e14-d53c-2423304f0b57",
        "colab": {
          "base_uri": "https://localhost:8080/",
          "height": 51
        }
      },
      "source": [
        "x = torch.tensor(2.0, requires_grad = True)\n",
        "print(x)\n",
        "y = x ** 2 + 2 * x + 1\n",
        "print(y)"
      ],
      "execution_count": 143,
      "outputs": [
        {
          "output_type": "stream",
          "text": [
            "tensor(2., requires_grad=True)\n",
            "tensor(9., grad_fn=<AddBackward0>)\n"
          ],
          "name": "stdout"
        }
      ]
    },
    {
      "cell_type": "markdown",
      "metadata": {
        "id": "mlvsQkLwsoEh",
        "colab_type": "text"
      },
      "source": [
        "도함수를 계산하기 위해서는 Tensor 의 `.backward()` 를 호출하면 됩니다.   \n",
        "만약 Tensor 가 스칼라(scalar)인 경우(예. 하나의 요소 값만 갖는 등)에는 `backward` 에 인자를 정해줄 필요가 없습니다.   \n",
        " 하지만 여러 개의 요소를 갖고 있을 때는 tensor의 모양을 gradient 의 인자로 지정할 필요가 있습니다."
      ]
    },
    {
      "cell_type": "markdown",
      "metadata": {
        "id": "fIqdUuEkqt90",
        "colab_type": "text"
      },
      "source": [
        "$y=x^{2}+2x+1$"
      ]
    },
    {
      "cell_type": "code",
      "metadata": {
        "id": "39iFts_4oVKn",
        "colab_type": "code",
        "outputId": "9c2e8c7d-4d2b-4248-bcf0-41c153aa85d1",
        "colab": {
          "base_uri": "https://localhost:8080/",
          "height": 51
        }
      },
      "source": [
        "# Calculate the y = x^2 + 2x + 1, then find the derivative \n",
        "x = torch.tensor(2.0, requires_grad = True)\n",
        "y = x ** 2 + 2 * x + 1\n",
        "print(y)\n",
        "y.backward()\n",
        "print(x.grad)"
      ],
      "execution_count": 144,
      "outputs": [
        {
          "output_type": "stream",
          "text": [
            "tensor(9., grad_fn=<AddBackward0>)\n",
            "tensor(6.)\n"
          ],
          "name": "stdout"
        }
      ]
    },
    {
      "cell_type": "markdown",
      "metadata": {
        "id": "mytvJZNEoVKs",
        "colab_type": "text"
      },
      "source": [
        "$\\frac{\\mathrm{dy(x)}}{\\mathrm{dx}}=2x+2$\n",
        "\n",
        "$\\frac{\\mathrm{dy(x=2)}}{\\mathrm{dx}}=2(2)+2=6$"
      ]
    },
    {
      "cell_type": "markdown",
      "metadata": {
        "id": "KUfkaPhUoVLH",
        "colab_type": "text"
      },
      "source": [
        "##1.1 Partial Derivatives"
      ]
    },
    {
      "cell_type": "markdown",
      "metadata": {
        "id": "5wmHr0TYoVLI",
        "colab_type": "text"
      },
      "source": [
        "$f(u,v)=vu+u^{2}$"
      ]
    },
    {
      "cell_type": "code",
      "metadata": {
        "id": "ZlsXAd3-oVLL",
        "colab_type": "code",
        "outputId": "6f948a45-acbb-4ce4-89d6-582c11b6d49c",
        "colab": {
          "base_uri": "https://localhost:8080/",
          "height": 34
        }
      },
      "source": [
        "u = torch.tensor(1.0,requires_grad=True)\n",
        "v = torch.tensor(2.0,requires_grad=True)\n",
        "f = u * v + u ** 2\n",
        "print(f)"
      ],
      "execution_count": 145,
      "outputs": [
        {
          "output_type": "stream",
          "text": [
            "tensor(3., grad_fn=<AddBackward0>)\n"
          ],
          "name": "stdout"
        }
      ]
    },
    {
      "cell_type": "markdown",
      "metadata": {
        "id": "rbaV7ii1oVLS",
        "colab_type": "text"
      },
      "source": [
        "$f(u=1,v=2)=(2)(1)+1^{2}=3$"
      ]
    },
    {
      "cell_type": "markdown",
      "metadata": {
        "id": "IJSg7nF6oVLU",
        "colab_type": "text"
      },
      "source": [
        "`u` 편미분값 과 `v`편미분 한 값"
      ]
    },
    {
      "cell_type": "code",
      "metadata": {
        "id": "CtV6wQNsoVLV",
        "colab_type": "code",
        "outputId": "184f8821-a403-4c9a-b31b-79b7fccdd16d",
        "colab": {
          "base_uri": "https://localhost:8080/",
          "height": 34
        }
      },
      "source": [
        "f.backward()\n",
        "print(u.grad)"
      ],
      "execution_count": 146,
      "outputs": [
        {
          "output_type": "stream",
          "text": [
            "tensor(4.)\n"
          ],
          "name": "stdout"
        }
      ]
    },
    {
      "cell_type": "markdown",
      "metadata": {
        "id": "5mI--Zy7oVLZ",
        "colab_type": "text"
      },
      "source": [
        "$\\frac{\\mathrm{\\partial f(u,v)}}{\\partial {u}}=v+2u$\n",
        "\n",
        "$\\frac{\\mathrm{\\partial f(u=1,v=2)}}{\\partial {u}}=2+2(1)=4$"
      ]
    },
    {
      "cell_type": "markdown",
      "metadata": {
        "id": "kcGH7e6UoVLn",
        "colab_type": "text"
      },
      "source": [
        "$\\frac{\\mathrm{\\partial f(u,v)}}{\\partial {v}}=u$\n",
        "\n",
        "$\\frac{\\mathrm{\\partial f(u=1,v=2)}}{\\partial {v}}=1$"
      ]
    },
    {
      "cell_type": "markdown",
      "metadata": {
        "id": "yIOfaWVksEie",
        "colab_type": "text"
      },
      "source": [
        "##1.2 detach"
      ]
    },
    {
      "cell_type": "markdown",
      "metadata": {
        "id": "Gi0t4xFysZri",
        "colab_type": "text"
      },
      "source": [
        "\n",
        "   \n",
        "Tensor가 기록을 추적하는 것을 중단하게 하려면, `.detach()` 를 호출하여 연산 기록으로부터 분리(detach)하여 이후 연산들이 추적되는 것을 방지할 수 있습니다."
      ]
    },
    {
      "cell_type": "code",
      "metadata": {
        "id": "cmLHIJ2yoVLq",
        "colab_type": "code",
        "colab": {}
      },
      "source": [
        "x = torch.linspace(-10, 10, 10, requires_grad = True)\n",
        "Y = x ** 2\n",
        "y = torch.sum(x ** 2)"
      ],
      "execution_count": 0,
      "outputs": []
    },
    {
      "cell_type": "code",
      "metadata": {
        "id": "rQQ1gNizoVLv",
        "colab_type": "code",
        "outputId": "31704c31-d565-4689-c63e-69d992f03783",
        "colab": {
          "base_uri": "https://localhost:8080/",
          "height": 279
        }
      },
      "source": [
        "y.backward()\n",
        "\n",
        "plt.plot(x.detach().numpy(), Y.detach().numpy(), label = 'function')\n",
        "plt.plot(x.detach().numpy(), x.grad.detach().numpy(), label = 'derivative')\n",
        "plt.xlabel('x')\n",
        "plt.legend()\n",
        "plt.show()"
      ],
      "execution_count": 148,
      "outputs": [
        {
          "output_type": "display_data",
          "data": {
            "image/png": "[encoded data removed]",
            "text/plain": [
              "<Figure size 432x288 with 1 Axes>"
            ]
          },
          "metadata": {
            "tags": []
          }
        }
      ]
    },
    {
      "cell_type": "markdown",
      "metadata": {
        "id": "4X0R0Dm4oVL4",
        "colab_type": "text"
      },
      "source": [
        "`relu`를 예로 들어보자"
      ]
    },
    {
      "cell_type": "code",
      "metadata": {
        "id": "foWm2uGloVL5",
        "colab_type": "code",
        "outputId": "cf0204c3-17d2-488d-a474-3c5f57fbf74c",
        "colab": {
          "base_uri": "https://localhost:8080/",
          "height": 279
        }
      },
      "source": [
        "x = torch.linspace(-10, 10, 1000, requires_grad = True)\n",
        "Y = torch.relu(x)\n",
        "y = Y.sum()\n",
        "y.backward()\n",
        "plt.plot(x.detach().numpy(), Y.detach().numpy(), label = 'function')\n",
        "plt.plot(x.detach().numpy(), x.grad.detach().numpy(), label = 'derivative')\n",
        "plt.xlabel('x')\n",
        "plt.legend()\n",
        "plt.show()"
      ],
      "execution_count": 149,
      "outputs": [
        {
          "output_type": "display_data",
          "data": {
            "image/png": "[encoded data removed]",
            "text/plain": [
              "<Figure size 432x288 with 1 Axes>"
            ]
          },
          "metadata": {
            "tags": []
          }
        }
      ]
    },
    {
      "cell_type": "markdown",
      "metadata": {
        "id": "cDNL-1PutUMS",
        "colab_type": "text"
      },
      "source": [
        "\n",
        "기록을 추적하는 것(과 메모리를 사용하는 것)을 방지하기 위해, 코드 블럭을 `with torch.no_grad():` 로 감쌀 수 있습니다. 이는 특히 변화도(gradient)는 필요없지만, requires_grad=True 가 설정되어 학습 가능한 매개변수를 갖는 모델을 평가(evaluate)할 때 유용합니다.\n",
        "\n",
        "**Autograd** 구현에서 매우 중요한 클래스가 하나 더 있는데, 이것은 바로 `Function` 클래스입니다.\n",
        "\n",
        "`Tensor` 와 `Function` 클래스는 서로 연결되어 있으며, 모든 연산 과정을 부호화(encode)하여 순환하지 않는 그래프(acyclic graph)를 생성합니다. 각 tensor는 `.grad_fn` 속성을 갖고 있는데, 이는 `Tensor` 를 생성한 Function 을 참조하고 있습니다. (단, 사용자가 만든 Tensor는 예외로, 이 때 `grad_fn` 은 None 입니다.)"
      ]
    },
    {
      "cell_type": "markdown",
      "metadata": {
        "id": "wK6hob0BNI7M",
        "colab_type": "text"
      },
      "source": [
        "#*2. Hypothesis and Cost*"
      ]
    },
    {
      "cell_type": "markdown",
      "metadata": {
        "id": "SZq5enDsLzTs",
        "colab_type": "text"
      },
      "source": [
        "기본적으로 ML에서 무언가를 예측하고자 할때, 가설과 이 가설이 얼마나 잘 예측했는지 위한 Cost로 나뉜다.    \n",
        "이는 다음과 같이 표시할 수 있다.\n",
        "* Hypothesis   \n",
        "\n",
        "   $ H(x) = Wx + b $    \n",
        "   \n",
        "* Cost   \n",
        "\n",
        "   $cost(W, b) = \\frac{1}{m} \\sum^m_{i=1} \\left( H(x^{(i)}) - y^{(i)} \\right)^2 $"
      ]
    },
    {
      "cell_type": "code",
      "metadata": {
        "id": "Kh1rD_opQJM9",
        "colab_type": "code",
        "colab": {}
      },
      "source": [
        "import torch.nn as nn\n",
        "import torch.nn.functional as F\n",
        "import torch.optim as optim"
      ],
      "execution_count": 0,
      "outputs": []
    },
    {
      "cell_type": "markdown",
      "metadata": {
        "id": "frI879N-PPS1",
        "colab_type": "text"
      },
      "source": [
        "## 2.1 Make the trainset(x,y)"
      ]
    },
    {
      "cell_type": "markdown",
      "metadata": {
        "id": "2AuudgeMdVgN",
        "colab_type": "text"
      },
      "source": [
        "$ y = 2x + 1$   \n",
        "을 input과 output값만을 통해 예측해보자"
      ]
    },
    {
      "cell_type": "code",
      "metadata": {
        "colab_type": "code",
        "id": "MZ_KTICZojWO",
        "colab": {}
      },
      "source": [
        "x = torch.FloatTensor([[1], [2], [3]])\n",
        "y = torch.FloatTensor([[3], [5], [7]])"
      ],
      "execution_count": 0,
      "outputs": []
    },
    {
      "cell_type": "code",
      "metadata": {
        "id": "s7frEnVaLru_",
        "colab_type": "code",
        "outputId": "c681e93f-bc3f-4800-f753-25881312d997",
        "colab": {
          "base_uri": "https://localhost:8080/",
          "height": 85
        }
      },
      "source": [
        "print(x)\n",
        "print(x.shape)"
      ],
      "execution_count": 152,
      "outputs": [
        {
          "output_type": "stream",
          "text": [
            "tensor([[1.],\n",
            "        [2.],\n",
            "        [3.]])\n",
            "torch.Size([3, 1])\n"
          ],
          "name": "stdout"
        }
      ]
    },
    {
      "cell_type": "code",
      "metadata": {
        "id": "_O_gfdrXLrvk",
        "colab_type": "code",
        "outputId": "b70703f6-efe4-48ea-858b-35c90c052a30",
        "colab": {
          "base_uri": "https://localhost:8080/",
          "height": 85
        }
      },
      "source": [
        "print(y)\n",
        "print(y.shape)"
      ],
      "execution_count": 153,
      "outputs": [
        {
          "output_type": "stream",
          "text": [
            "tensor([[3.],\n",
            "        [5.],\n",
            "        [7.]])\n",
            "torch.Size([3, 1])\n"
          ],
          "name": "stdout"
        }
      ]
    },
    {
      "cell_type": "code",
      "metadata": {
        "id": "TV1jgkd4L0BY",
        "colab_type": "code",
        "colab": {
          "base_uri": "https://localhost:8080/",
          "height": 34
        },
        "outputId": "a94d994f-7c6d-4e47-ed8b-abc7554031d9"
      },
      "source": [
        "W = torch.tensor(1.0, requires_grad = True)\n",
        "b = torch.tensor(1.0, requires_grad=True) # 상수를 나타낸다.\n",
        "print(W,b)"
      ],
      "execution_count": 154,
      "outputs": [
        {
          "output_type": "stream",
          "text": [
            "tensor(1., requires_grad=True) tensor(1., requires_grad=True)\n"
          ],
          "name": "stdout"
        }
      ]
    },
    {
      "cell_type": "code",
      "metadata": {
        "id": "v5qZHfD1L0Xf",
        "colab_type": "code",
        "colab": {
          "base_uri": "https://localhost:8080/",
          "height": 68
        },
        "outputId": "750d9581-b175-40e3-86bd-fc37280c7e05"
      },
      "source": [
        "hypothesis = x * W + b\n",
        "print(hypothesis)"
      ],
      "execution_count": 155,
      "outputs": [
        {
          "output_type": "stream",
          "text": [
            "tensor([[2.],\n",
            "        [3.],\n",
            "        [4.]], grad_fn=<AddBackward0>)\n"
          ],
          "name": "stdout"
        }
      ]
    },
    {
      "cell_type": "markdown",
      "metadata": {
        "id": "gvxTmQrFfPVE",
        "colab_type": "text"
      },
      "source": [
        "   $cost(W, b) = \\frac{1}{m} \\sum^m_{i=1} \\left( H(x^{(i)}) - y^{(i)} \\right)^2 $"
      ]
    },
    {
      "cell_type": "code",
      "metadata": {
        "id": "9uO0g6bGL0iY",
        "colab_type": "code",
        "colab": {
          "base_uri": "https://localhost:8080/",
          "height": 34
        },
        "outputId": "801dabe3-d6a5-48ce-f0cf-f4d797372604"
      },
      "source": [
        "cost = torch.mean((hypothesis - y) ** 2)\n",
        "print(cost)"
      ],
      "execution_count": 156,
      "outputs": [
        {
          "output_type": "stream",
          "text": [
            "tensor(4.6667, grad_fn=<MeanBackward0>)\n"
          ],
          "name": "stdout"
        }
      ]
    },
    {
      "cell_type": "markdown",
      "metadata": {
        "id": "SgcCQ_bOfVee",
        "colab_type": "text"
      },
      "source": [
        "그냥 계산을 하면 Cost가 매우 큰것을 볼 수 있다.   \n",
        "이 Cost가 최소화된, 즉 예측값이 실제값과 동일할때 까지 optimize 과정을 거쳐야한다.   \n",
        " 이때 대표적으로 Gradient Descent를 사용한다."
      ]
    },
    {
      "cell_type": "markdown",
      "metadata": {
        "id": "zKGz1QLEL044",
        "colab_type": "text"
      },
      "source": [
        "## 2.2 Gradient Descent"
      ]
    },
    {
      "cell_type": "markdown",
      "metadata": {
        "id": "mwgcT0jLe43T",
        "colab_type": "text"
      },
      "source": [
        "Cost를 미분을 했을때, 값이 0인 즉, 기울기가 0인 값이 최적이라고 볼 수 있다."
      ]
    },
    {
      "cell_type": "markdown",
      "metadata": {
        "id": "aVPqTOq0gSN9",
        "colab_type": "text"
      },
      "source": [
        "이를 위해서 미분한값이 음수 이면 W값을 늘리고, 양수이면 W값을 줄인다.   \n",
        "이를 다음과 같이 나타낼수 있다.   \n"
      ]
    },
    {
      "cell_type": "markdown",
      "metadata": {
        "id": "sqPnpH4phLK3",
        "colab_type": "text"
      },
      "source": [
        "$W := W-\\alpha\\frac{\\mathrm{dcost}}{\\mathrm{dW}}$   \n",
        "여기서 $\\alpha$는 learning rate를 나타내며   \n",
        "$\\frac{\\mathrm{dcost}}{\\mathrm{dW}}$는 Cost의 Gradient를 구한값이다."
      ]
    },
    {
      "cell_type": "code",
      "metadata": {
        "id": "0fS_PrjnLryQ",
        "colab_type": "code",
        "colab": {}
      },
      "source": [
        "optimizer = optim.SGD([W, b], lr=0.01)"
      ],
      "execution_count": 0,
      "outputs": []
    },
    {
      "cell_type": "markdown",
      "metadata": {
        "id": "XtEM7wx9h_79",
        "colab_type": "text"
      },
      "source": [
        "`optimizer.zero_grad()`로 gradient를 0으로 초기값 설정.      \n",
        "`cost.backward()`는 cost를 미분하여 gradient를 계산.   \n",
        "`optimizer.step()`으로 gradient descent를 진행한다.   "
      ]
    },
    {
      "cell_type": "code",
      "metadata": {
        "id": "3hhw4eR7Lryb",
        "colab_type": "code",
        "colab": {}
      },
      "source": [
        "optimizer.zero_grad()\n",
        "cost.backward()\n",
        "optimizer.step()"
      ],
      "execution_count": 0,
      "outputs": []
    },
    {
      "cell_type": "code",
      "metadata": {
        "id": "tA5mTjwpLryl",
        "colab_type": "code",
        "outputId": "93f047ab-d559-464e-c5cc-e28bb1ba7675",
        "colab": {
          "base_uri": "https://localhost:8080/",
          "height": 51
        }
      },
      "source": [
        "print(W)\n",
        "print(b)"
      ],
      "execution_count": 159,
      "outputs": [
        {
          "output_type": "stream",
          "text": [
            "tensor(1.0933, requires_grad=True)\n",
            "tensor(1.0400, requires_grad=True)\n"
          ],
          "name": "stdout"
        }
      ]
    },
    {
      "cell_type": "markdown",
      "metadata": {
        "id": "0I3KAv5ALryv",
        "colab_type": "text"
      },
      "source": [
        "Let's check if the hypothesis is now better."
      ]
    },
    {
      "cell_type": "markdown",
      "metadata": {
        "id": "hyKl3zuuLrz9",
        "colab_type": "text"
      },
      "source": [
        "이제 linear regression 모델을 만들면 되는데,   \n",
        "기본적으로 PyTorch의 모든 모델은 제공되는 `nn.Module`을 상속시켜서 만들게 됩니다."
      ]
    },
    {
      "cell_type": "code",
      "metadata": {
        "id": "H1ZOLabyLr0A",
        "colab_type": "code",
        "colab": {}
      },
      "source": [
        "class LinearRegressionModel(nn.Module):\n",
        "    def __init__(self):\n",
        "        super().__init__()\n",
        "        self.linear = nn.Linear(1, 1)\n",
        "\n",
        "    def forward(self, x): # Hypothesis계산을 해준다.\n",
        "        return self.linear(x)"
      ],
      "execution_count": 0,
      "outputs": []
    },
    {
      "cell_type": "markdown",
      "metadata": {
        "id": "qb2qSG4ILr0O",
        "colab_type": "text"
      },
      "source": [
        "모델의 `__init__`에서는 사용할 레이어들을 정의하게 됩니다. 여기서 우리는 linear regression 모델을 만들기 때문에, `nn.Linear` 를 이용할 것입니다. 그리고 `forward`에서는 이 모델이 어떻게 입력값에서 출력값을 계산하는지 알려줍니다."
      ]
    },
    {
      "cell_type": "code",
      "metadata": {
        "id": "pfinb497Lru0",
        "colab_type": "code",
        "colab": {}
      },
      "source": [
        "x = torch.FloatTensor([[1], [2], [3]])\n",
        "y = torch.FloatTensor([[3], [5], [7]])"
      ],
      "execution_count": 0,
      "outputs": []
    },
    {
      "cell_type": "code",
      "metadata": {
        "id": "e9M1oBmALr0S",
        "colab_type": "code",
        "colab": {}
      },
      "source": [
        "model = LinearRegressionModel()"
      ],
      "execution_count": 0,
      "outputs": []
    },
    {
      "cell_type": "code",
      "metadata": {
        "id": "vKlbVFlhLryy",
        "colab_type": "code",
        "outputId": "c3d1dc1e-33d6-4394-bbf6-5f74aab20cea",
        "colab": {
          "base_uri": "https://localhost:8080/",
          "height": 204
        }
      },
      "source": [
        "# 모델 초기화\n",
        "model = LinearRegressionModel()\n",
        "\n",
        "# optimizer 설정\n",
        "optimizer = optim.SGD(model.parameters(), lr=0.01)\n",
        "\n",
        "nb_epochs = 1000\n",
        "for epoch in range(nb_epochs + 1):\n",
        "    \n",
        "    # H(x) 계산\n",
        "    prediction = model(x)\n",
        "    \n",
        "    # cost 계산\n",
        "    cost = F.mse_loss(prediction, y)\n",
        "    \n",
        "    # cost로 H(x) 개선\n",
        "    optimizer.zero_grad()\n",
        "    cost.backward()\n",
        "    optimizer.step()\n",
        "    \n",
        "    # 100번마다 로그 출력\n",
        "    if epoch % 100 == 0:\n",
        "        params = list(model.parameters())\n",
        "        W = params[0].item()\n",
        "        b = params[1].item()\n",
        "        print('Epoch {:4d}/{} W: {:.3f}, b: {:.3f} Cost: {:.6f}'.format(\n",
        "            epoch, nb_epochs, W, b, cost.item()\n",
        "        ))"
      ],
      "execution_count": 163,
      "outputs": [
        {
          "output_type": "stream",
          "text": [
            "Epoch    0/1000 W: -0.328, b: -0.701 Cost: 55.697922\n",
            "Epoch  100/1000 W: 2.196, b: 0.554 Cost: 0.028664\n",
            "Epoch  200/1000 W: 2.154, b: 0.649 Cost: 0.017713\n",
            "Epoch  300/1000 W: 2.121, b: 0.724 Cost: 0.010945\n",
            "Epoch  400/1000 W: 2.095, b: 0.783 Cost: 0.006764\n",
            "Epoch  500/1000 W: 2.075, b: 0.830 Cost: 0.004179\n",
            "Epoch  600/1000 W: 2.059, b: 0.866 Cost: 0.002583\n",
            "Epoch  700/1000 W: 2.046, b: 0.895 Cost: 0.001596\n",
            "Epoch  800/1000 W: 2.036, b: 0.917 Cost: 0.000986\n",
            "Epoch  900/1000 W: 2.029, b: 0.935 Cost: 0.000609\n",
            "Epoch 1000/1000 W: 2.022, b: 0.949 Cost: 0.000377\n"
          ],
          "name": "stdout"
        }
      ]
    },
    {
      "cell_type": "markdown",
      "metadata": {
        "id": "NdoAov8NL1Jm",
        "colab_type": "text"
      },
      "source": [
        "이로써 W는 2와 가깝게, b는 1과 가깝게 된것을 볼 수 있습니다."
      ]
    },
    {
      "cell_type": "markdown",
      "metadata": {
        "id": "WCADvVhske_2",
        "colab_type": "text"
      },
      "source": [
        "# *3. Multivariable Linear regression*"
      ]
    },
    {
      "cell_type": "markdown",
      "metadata": {
        "id": "-a7JIv7QkyAk",
        "colab_type": "text"
      },
      "source": [
        "$$ H(x_1, x_2, x_3) = x_1w_1 + x_2w_2 + x_3w_3 + b $$"
      ]
    },
    {
      "cell_type": "markdown",
      "metadata": {
        "id": "7VNLxLnukyAr",
        "colab_type": "text"
      },
      "source": [
        "$$ cost(W, b) = \\frac{1}{m} \\sum^m_{i=1} \\left( H(x^{(i)}) - y^{(i)} \\right)^2 $$"
      ]
    },
    {
      "cell_type": "markdown",
      "metadata": {
        "id": "kvybux1okyAz",
        "colab_type": "text"
      },
      "source": [
        " - $H(x)$: 주어진 $x$ 값에 대해 예측을 어떻게 할 것인가\n",
        " - $cost(W, b)$: $H(x)$ 가 $y$ 를 얼마나 잘 예측했는가"
      ]
    },
    {
      "cell_type": "markdown",
      "metadata": {
        "id": "OSZ42tVolV8q",
        "colab_type": "text"
      },
      "source": [
        "## 3.1 Make the trainset(x1,x2,x3,y)"
      ]
    },
    {
      "cell_type": "code",
      "metadata": {
        "id": "Ip27kusykf_A",
        "colab_type": "code",
        "colab": {}
      },
      "source": [
        "# 데이터\n",
        "x_train = torch.FloatTensor([[73, 80, 75],\n",
        "                             [93, 88, 93],\n",
        "                             [89, 91, 90],\n",
        "                             [96, 98, 100],\n",
        "                             [73, 66, 70]])\n",
        "y_train = torch.FloatTensor([[152], [185], [180], [196], [142]])\n"
      ],
      "execution_count": 0,
      "outputs": []
    },
    {
      "cell_type": "markdown",
      "metadata": {
        "id": "2zXpe8ockgNX",
        "colab_type": "text"
      },
      "source": [
        "## 3.2 Load the linear model for multivariable"
      ]
    },
    {
      "cell_type": "code",
      "metadata": {
        "id": "sSp9KKKkkyCM",
        "colab_type": "code",
        "colab": {}
      },
      "source": [
        "class MultivariateLinearRegressionModel(nn.Module):\n",
        "    def __init__(self):\n",
        "        super().__init__()\n",
        "        self.linear = nn.Linear(3, 1)\n",
        "\n",
        "    def forward(self, x):\n",
        "        return self.linear(x)"
      ],
      "execution_count": 0,
      "outputs": []
    },
    {
      "cell_type": "code",
      "metadata": {
        "id": "R-ikzTmRkyCX",
        "colab_type": "code",
        "outputId": "6d4afe62-bfa1-43b7-f5e7-17acd3e64ff2",
        "colab": {
          "base_uri": "https://localhost:8080/",
          "height": 204
        }
      },
      "source": [
        "# 모델 초기화\n",
        "model = MultivariateLinearRegressionModel()\n",
        "# optimizer 설정\n",
        "optimizer = optim.SGD(model.parameters(), lr=1e-5)\n",
        "\n",
        "nb_epochs = 1000\n",
        "for epoch in range(nb_epochs+1):\n",
        "    \n",
        "    # H(x) 계산\n",
        "    prediction = model(x_train)\n",
        "    \n",
        "    # cost 계산\n",
        "    cost = F.mse_loss(prediction, y_train)\n",
        "    \n",
        "    # cost로 H(x) 개선\n",
        "    optimizer.zero_grad()\n",
        "    cost.backward()\n",
        "    optimizer.step()\n",
        "    \n",
        "    # 100번마다 로그 출력\n",
        "    if epoch % 100 == 0:\n",
        "        params = list(model.parameters())\n",
        "        w1 = params[0][0][0]\n",
        "        w2 = params[0][0][1]\n",
        "        w3 = params[0][0][2]\n",
        "        b = params[1]\n",
        "        print('Epoch {:4d}/{} w1: {:.3f} w2: {:.3f} w3: {:.3f} b: {:.3f} Cost: {:.6f}'.format(\n",
        "            epoch, nb_epochs, w1.item(), w3.item(), w3.item(), b.item(), cost.item()\n",
        "        ))"
      ],
      "execution_count": 166,
      "outputs": [
        {
          "output_type": "stream",
          "text": [
            "Epoch    0/1000 w1: 0.525 w2: 0.442 w3: 0.442 b: -0.383 Cost: 24433.072266\n",
            "Epoch  100/1000 w1: 0.864 w2: 0.785 w3: 0.785 b: -0.379 Cost: 0.486605\n",
            "Epoch  200/1000 w1: 0.863 w2: 0.783 w3: 0.783 b: -0.379 Cost: 0.482876\n",
            "Epoch  300/1000 w1: 0.863 w2: 0.782 w3: 0.782 b: -0.378 Cost: 0.479266\n",
            "Epoch  400/1000 w1: 0.863 w2: 0.781 w3: 0.781 b: -0.378 Cost: 0.475791\n",
            "Epoch  500/1000 w1: 0.862 w2: 0.780 w3: 0.780 b: -0.378 Cost: 0.472443\n",
            "Epoch  600/1000 w1: 0.862 w2: 0.779 w3: 0.779 b: -0.378 Cost: 0.469209\n",
            "Epoch  700/1000 w1: 0.862 w2: 0.778 w3: 0.778 b: -0.378 Cost: 0.466090\n",
            "Epoch  800/1000 w1: 0.862 w2: 0.777 w3: 0.777 b: -0.378 Cost: 0.463067\n",
            "Epoch  900/1000 w1: 0.862 w2: 0.776 w3: 0.776 b: -0.378 Cost: 0.460149\n",
            "Epoch 1000/1000 w1: 0.861 w2: 0.775 w3: 0.775 b: -0.377 Cost: 0.457325\n"
          ],
          "name": "stdout"
        }
      ]
    }
  ]
}