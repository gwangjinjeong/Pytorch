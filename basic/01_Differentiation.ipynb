{
  "nbformat": 4,
  "nbformat_minor": 0,
  "metadata": {
    "kernelspec": {
      "display_name": "Python",
      "language": "python",
      "name": "conda-env-python-py"
    },
    "language_info": {
      "codemirror_mode": {
        "name": "ipython",
        "version": 3
      },
      "file_extension": ".py",
      "mimetype": "text/x-python",
      "name": "python",
      "nbconvert_exporter": "python",
      "pygments_lexer": "ipython3",
      "version": "3.6.7"
    },
    "colab": {
      "name": "01_Differentiation.ipynb",
      "provenance": [],
      "toc_visible": true,
      "include_colab_link": true
    }
  },
  "cells": [
    {
      "cell_type": "markdown",
      "metadata": {
        "id": "view-in-github",
        "colab_type": "text"
      },
      "source": [
        "<a href=\"https://colab.research.google.com/github/gwangjinjeong/Pytorch/blob/master/basic/01_Differentiation.ipynb\" target=\"_parent\"><img src=\"https://colab.research.google.com/assets/colab-badge.svg\" alt=\"Open In Colab\"/></a>"
      ]
    },
    {
      "cell_type": "markdown",
      "metadata": {
        "id": "TVbUxNT7oVJy",
        "colab_type": "text"
      },
      "source": [
        "# Differentiation in PyTorch"
      ]
    },
    {
      "cell_type": "markdown",
      "metadata": {
        "id": "S-pOLpKooVJ1",
        "colab_type": "text"
      },
      "source": [
        "## 0. Preparation"
      ]
    },
    {
      "cell_type": "code",
      "metadata": {
        "id": "l2r9ObDjoVJ4",
        "colab_type": "code",
        "colab": {}
      },
      "source": [
        "import torch \n",
        "import matplotlib.pylab as plt"
      ],
      "execution_count": 0,
      "outputs": []
    },
    {
      "cell_type": "markdown",
      "metadata": {
        "id": "N2LRGyicoVKA",
        "colab_type": "text"
      },
      "source": [
        "## 1. Derivatives"
      ]
    },
    {
      "cell_type": "markdown",
      "metadata": {
        "id": "wNoZkbULo7Gg",
        "colab_type": "text"
      },
      "source": [
        "***Tensor***   \n",
        "패키지의 중심에는 `torch.Tensor` 클래스가 있습니다. 만약 `.requires_grad` 속성을 **True** 로 설정하면, 그 **tensor**에서 이뤄진 모든 연산들을 추적(track)하기 시작합니다.\n",
        "   \n",
        "계산이 완료된 후 `.backward()` 를 호출하여 모든 변화도(gradient)를 자동으로 계산할 수 있습니다. 이 Tensor의 변화도는 .grad 속성에 누적됩니다."
      ]
    },
    {
      "cell_type": "markdown",
      "metadata": {
        "id": "K99zoL39oVKB",
        "colab_type": "text"
      },
      "source": [
        ".requires_grad_( ... ) 는 기존 Tensor의 requires_grad 값을 바꿔치기 (in-place)하여 변경합니다. 입력값이 지정되지 않으면 기본값은 False 입니다.   \n",
        "$y=x^{2}+2x+1$ 를 계산해본다면.."
      ]
    },
    {
      "cell_type": "code",
      "metadata": {
        "id": "_Ab8bd9BoVKC",
        "colab_type": "code",
        "outputId": "c73a452e-d181-4331-e083-13abf1661b79",
        "colab": {
          "base_uri": "https://localhost:8080/",
          "height": 51
        }
      },
      "source": [
        "x = torch.tensor(2.0, requires_grad = True)\n",
        "print(x)\n",
        "y = x ** 2 + 2 * x + 1\n",
        "print(y)"
      ],
      "execution_count": 0,
      "outputs": [
        {
          "output_type": "stream",
          "text": [
            "tensor(2., requires_grad=True)\n",
            "tensor(9., grad_fn=<AddBackward0>)\n"
          ],
          "name": "stdout"
        }
      ]
    },
    {
      "cell_type": "markdown",
      "metadata": {
        "id": "mlvsQkLwsoEh",
        "colab_type": "text"
      },
      "source": [
        "도함수를 계산하기 위해서는 Tensor 의 `.backward()` 를 호출하면 됩니다. 만약 Tensor 가 스칼라(scalar)인 경우(예. 하나의 요소 값만 갖는 등)에는 `backward` 에 인자를 정해줄 필요가 없습니다. 하지만 여러 개의 요소를 갖고 있을 때는 tensor의 모양을 gradient 의 인자로 지정할 필요가 있습니다."
      ]
    },
    {
      "cell_type": "markdown",
      "metadata": {
        "id": "fIqdUuEkqt90",
        "colab_type": "text"
      },
      "source": [
        "$y=x^{2}+2x+1$"
      ]
    },
    {
      "cell_type": "code",
      "metadata": {
        "id": "39iFts_4oVKn",
        "colab_type": "code",
        "outputId": "a2aba9b7-d9a3-4098-b54e-63a922fd1e00",
        "colab": {
          "base_uri": "https://localhost:8080/",
          "height": 51
        }
      },
      "source": [
        "# Calculate the y = x^2 + 2x + 1, then find the derivative \n",
        "\n",
        "x = torch.tensor(2.0, requires_grad = True)\n",
        "y = x ** 2 + 2 * x + 1\n",
        "print(y)\n",
        "y.backward()\n",
        "print(x.grad)"
      ],
      "execution_count": 0,
      "outputs": [
        {
          "output_type": "stream",
          "text": [
            "tensor(9., grad_fn=<AddBackward0>)\n",
            "tensor(6.)\n"
          ],
          "name": "stdout"
        }
      ]
    },
    {
      "cell_type": "markdown",
      "metadata": {
        "id": "mytvJZNEoVKs",
        "colab_type": "text"
      },
      "source": [
        "$\\frac{\\mathrm{dy(x)}}{\\mathrm{dx}}=2x+2$\n",
        "\n",
        "$\\frac{\\mathrm{dy(x=2)}}{\\mathrm{dx}}=2(2)+2=6$"
      ]
    },
    {
      "cell_type": "code",
      "metadata": {
        "id": "bqlXSkkqoVK_",
        "colab_type": "code",
        "colab": {}
      },
      "source": [
        "class SQ(torch.autograd.Function):\n",
        "\n",
        "    @staticmethod\n",
        "    def forward(ctx,i):\n",
        "        result=i**2\n",
        "        ctx.save_for_backward(i)\n",
        "        return result\n",
        "\n",
        "    @staticmethod\n",
        "    def backward(ctx, grad_output):\n",
        "        i, = ctx.saved_tensors\n",
        "        grad_output = 2*i\n",
        "        return grad_output"
      ],
      "execution_count": 0,
      "outputs": []
    },
    {
      "cell_type": "code",
      "metadata": {
        "id": "WIqKnE3ooVLD",
        "colab_type": "code",
        "outputId": "02978158-b43c-482e-f992-051fd201c59e",
        "colab": {
          "base_uri": "https://localhost:8080/",
          "height": 51
        }
      },
      "source": [
        "x=torch.tensor(2.0,requires_grad=True )\n",
        "sq=SQ.apply\n",
        "\n",
        "y=sq(x)\n",
        "y\n",
        "print(y.grad_fn)\n",
        "y.backward()\n",
        "x.grad"
      ],
      "execution_count": 0,
      "outputs": [
        {
          "output_type": "stream",
          "text": [
            "<torch.autograd.function.SQBackward object at 0x7f699d123668>\n"
          ],
          "name": "stdout"
        },
        {
          "output_type": "execute_result",
          "data": {
            "text/plain": [
              "tensor(4.)"
            ]
          },
          "metadata": {
            "tags": []
          },
          "execution_count": 14
        }
      ]
    },
    {
      "cell_type": "markdown",
      "metadata": {
        "id": "KUfkaPhUoVLH",
        "colab_type": "text"
      },
      "source": [
        "##2. Partial Derivatives"
      ]
    },
    {
      "cell_type": "markdown",
      "metadata": {
        "id": "5wmHr0TYoVLI",
        "colab_type": "text"
      },
      "source": [
        "$f(u,v)=vu+u^{2}$"
      ]
    },
    {
      "cell_type": "code",
      "metadata": {
        "id": "ZlsXAd3-oVLL",
        "colab_type": "code",
        "outputId": "cbfc4e0f-8f31-4222-b5c0-6f40681259da",
        "colab": {
          "base_uri": "https://localhost:8080/",
          "height": 34
        }
      },
      "source": [
        "u = torch.tensor(1.0,requires_grad=True)\n",
        "v = torch.tensor(2.0,requires_grad=True)\n",
        "f = u * v + u ** 2\n",
        "print(f)"
      ],
      "execution_count": 21,
      "outputs": [
        {
          "output_type": "stream",
          "text": [
            "tensor(3., grad_fn=<AddBackward0>)\n"
          ],
          "name": "stdout"
        }
      ]
    },
    {
      "cell_type": "markdown",
      "metadata": {
        "id": "rbaV7ii1oVLS",
        "colab_type": "text"
      },
      "source": [
        "$f(u=1,v=2)=(2)(1)+1^{2}=3$"
      ]
    },
    {
      "cell_type": "markdown",
      "metadata": {
        "id": "IJSg7nF6oVLU",
        "colab_type": "text"
      },
      "source": [
        "`u` 편미분값 과 `v`편미분 한 값"
      ]
    },
    {
      "cell_type": "code",
      "metadata": {
        "id": "CtV6wQNsoVLV",
        "colab_type": "code",
        "outputId": "d8ca398d-3488-4533-b820-5c0f2eb0d744",
        "colab": {
          "base_uri": "https://localhost:8080/",
          "height": 34
        }
      },
      "source": [
        "f.backward()\n",
        "print(u.grad)"
      ],
      "execution_count": 22,
      "outputs": [
        {
          "output_type": "stream",
          "text": [
            "tensor(4.)\n"
          ],
          "name": "stdout"
        }
      ]
    },
    {
      "cell_type": "markdown",
      "metadata": {
        "id": "5mI--Zy7oVLZ",
        "colab_type": "text"
      },
      "source": [
        "$\\frac{\\mathrm{\\partial f(u,v)}}{\\partial {u}}=v+2u$\n",
        "\n",
        "$\\frac{\\mathrm{\\partial f(u=1,v=2)}}{\\partial {u}}=2+2(1)=4$"
      ]
    },
    {
      "cell_type": "markdown",
      "metadata": {
        "id": "kcGH7e6UoVLn",
        "colab_type": "text"
      },
      "source": [
        "$\\frac{\\mathrm{\\partial f(u,v)}}{\\partial {v}}=u$\n",
        "\n",
        "$\\frac{\\mathrm{\\partial f(u=1,v=2)}}{\\partial {v}}=1$"
      ]
    },
    {
      "cell_type": "markdown",
      "metadata": {
        "id": "yIOfaWVksEie",
        "colab_type": "text"
      },
      "source": [
        "## 3. detach"
      ]
    },
    {
      "cell_type": "markdown",
      "metadata": {
        "id": "Gi0t4xFysZri",
        "colab_type": "text"
      },
      "source": [
        "\n",
        "   \n",
        "Tensor가 기록을 추적하는 것을 중단하게 하려면, `.detach()` 를 호출하여 연산 기록으로부터 분리(detach)하여 이후 연산들이 추적되는 것을 방지할 수 있습니다."
      ]
    },
    {
      "cell_type": "code",
      "metadata": {
        "id": "cmLHIJ2yoVLq",
        "colab_type": "code",
        "colab": {}
      },
      "source": [
        "x = torch.linspace(-10, 10, 10, requires_grad = True)\n",
        "Y = x ** 2\n",
        "y = torch.sum(x ** 2)"
      ],
      "execution_count": 0,
      "outputs": []
    },
    {
      "cell_type": "code",
      "metadata": {
        "id": "rQQ1gNizoVLv",
        "colab_type": "code",
        "outputId": "ad2eb05d-730b-408b-fb56-ab3c61f9ccfb",
        "colab": {
          "base_uri": "https://localhost:8080/",
          "height": 279
        }
      },
      "source": [
        "y.backward()\n",
        "\n",
        "plt.plot(x.detach().numpy(), Y.detach().numpy(), label = 'function')\n",
        "plt.plot(x.detach().numpy(), x.grad.detach().numpy(), label = 'derivative')\n",
        "plt.xlabel('x')\n",
        "plt.legend()\n",
        "plt.show()"
      ],
      "execution_count": 0,
      "outputs": [
        {
          "output_type": "display_data",
          "data": {
            "image/png": "[encoded data removed]",
            "text/plain": [
              "<Figure size 432x288 with 1 Axes>"
            ]
          },
          "metadata": {
            "tags": []
          }
        }
      ]
    },
    {
      "cell_type": "markdown",
      "metadata": {
        "id": "4X0R0Dm4oVL4",
        "colab_type": "text"
      },
      "source": [
        "`relu`를 예로 들어보자"
      ]
    },
    {
      "cell_type": "code",
      "metadata": {
        "id": "foWm2uGloVL5",
        "colab_type": "code",
        "outputId": "4cbc2cad-db3a-4a35-834d-24b347d8ea01",
        "colab": {}
      },
      "source": [
        "x = torch.linspace(-10, 10, 1000, requires_grad = True)\n",
        "Y = torch.relu(x)\n",
        "y = Y.sum()\n",
        "y.backward()\n",
        "plt.plot(x.detach().numpy(), Y.detach().numpy(), label = 'function')\n",
        "plt.plot(x.detach().numpy(), x.grad.detach().numpy(), label = 'derivative')\n",
        "plt.xlabel('x')\n",
        "plt.legend()\n",
        "plt.show()"
      ],
      "execution_count": 0,
      "outputs": [
        {
          "output_type": "display_data",
          "data": {
            "image/png": "[encoded data removed]",
            "text/plain": [
              "<Figure size 432x288 with 1 Axes>"
            ]
          },
          "metadata": {
            "tags": [],
            "needs_background": "light"
          }
        }
      ]
    },
    {
      "cell_type": "markdown",
      "metadata": {
        "id": "cDNL-1PutUMS",
        "colab_type": "text"
      },
      "source": [
        "\n",
        "기록을 추적하는 것(과 메모리를 사용하는 것)을 방지하기 위해, 코드 블럭을 `with torch.no_grad():` 로 감쌀 수 있습니다. 이는 특히 변화도(gradient)는 필요없지만, requires_grad=True 가 설정되어 학습 가능한 매개변수를 갖는 모델을 평가(evaluate)할 때 유용합니다.\n",
        "\n",
        "**Autograd** 구현에서 매우 중요한 클래스가 하나 더 있는데, 이것은 바로 `Function` 클래스입니다.\n",
        "\n",
        "`Tensor` 와 `Function` 클래스는 서로 연결되어 있으며, 모든 연산 과정을 부호화(encode)하여 순환하지 않는 그래프(acyclic graph)를 생성합니다. 각 tensor는 `.grad_fn` 속성을 갖고 있는데, 이는 `Tensor` 를 생성한 Function 을 참조하고 있습니다. (단, 사용자가 만든 Tensor는 예외로, 이 때 `grad_fn` 은 None 입니다.)"
      ]
    }
  ]
}